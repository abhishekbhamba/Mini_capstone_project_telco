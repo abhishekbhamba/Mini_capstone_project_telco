{
 "cells": [
  {
   "cell_type": "markdown",
   "id": "bdd54a67",
   "metadata": {},
   "source": [
    "# INTRODUCTION\n",
    "\n",
    "A fictional telco company that provided home phone and Internet services to 7043 customers in California in Quarter 3 of the fiscal year."
   ]
  },
  {
   "cell_type": "markdown",
   "id": "00eb5770",
   "metadata": {},
   "source": [
    "## Data Description\n",
    "\n",
    "| Variables | Explanation of variable |\n",
    "| :----- | :----- |\n",
    "| **CustomerID** | unique id of each ustomer |\n",
    "| **Count** | number of customers in a filtered set. |\n",
    "| **Country** | The country of the customer’s primary residence. |\n",
    "| **State** | The state of the customer’s primary residence. |\n",
    "| **City** | The city of the customer’s primary residence. |\n",
    "| **Zip Code** | The zip code of the customer’s primary residence. |\n",
    "| **Lat Long** | The combined latitude and longitude of the customer’s primary residence. | \n",
    "| **Latitude** |  The latitude of the customer’s primary residence. |\n",
    "| **Longitude** |  The longitude of the customer’s primary residence. |\n",
    "| **Gender** | The customer’s gender: Male, Female |\n",
    "| **Senior Citizen** | Indicates if the customer is 65 or older: Yes, No |\n",
    "| **Partner** | Indicate if the customer has a partner: Yes, No |\n",
    "| **Dependents** | Indicates if the customer lives with any dependents: Yes, No. Dependents could be children, parents, grandparents, etc. |\n",
    "| **Tenure Months** | Indicates the total amount of months that the customer has been with the company by the end of the quarter specified above. |\n",
    "| **Phone Service** |  Indicates if the customer subscribes to home phone service with the company: Yes, No |\n",
    "| **Multiple Lines** | Indicates if the customer subscribes to multiple telephone lines with the company: Yes, No |\n",
    "| **Internet Service** | Indicates if the customer subscribes to Internet service with the company: No, DSL, Fiber Optic, Cable. |\n",
    "| **Online Security** | Indicates if the customer subscribes to an additional online security service provided by the company: Yes, No |\n",
    "| **Online Backup** | Indicates if the customer subscribes to an additional online backup service provided by the company: Yes, No |\n",
    "| **Device Protection** |  Indicates if the customer subscribes to an additional device protection plan for their Internet equipment provided by the company: Yes, No |\n",
    "| **Tech Support** | Indicates if the customer subscribes to an additional technical support plan from the company with reduced wait times: Yes, No |\n",
    "| **Streaming TV** | Indicates if the customer uses their Internet service to stream television programing from a third party provider: Yes, No. The company does not charge an additional fee for this service. |\n",
    "| **Streaming Movies** | Indicates if the customer uses their Internet service to stream movies from a third party provider: Yes, No. The company does not charge an additional fee for this service. |\n",
    "| **Contract** | Indicates the customer’s current contract type: Month-to-Month, One Year, Two Year. |\n",
    "| **Paperless Billing** | Indicates if the customer has chosen paperless billing: Yes, No |\n",
    "| **Payment Method** | Indicates how the customer pays their bill: Bank Withdrawal, Credit Card, Mailed Check |\n",
    "| **Monthly Charge** | Indicates the customer’s current total monthly charge for all their services from the company. |\n",
    "| **Total Charges** | Indicates the customer’s total charges, calculated to the end of the quarter specified above. |\n",
    "| **Churn Label** | Yes = the customer left the company this quarter. No = the customer remained with the company. Directly related to Churn Value. |\n",
    "| **Churn Value** | 1 = the customer left the company this quarter. 0 = the customer remained with the company. Directly related to Churn Label. |\n",
    "| **Churn Score** | A value from 0-100 that is calculated using the predictive tool IBM SPSS Modeler. The model incorporates multiple factors known to cause churn. The higher the score, the more likely the customer will churn. |\n",
    "| **CLTV** | Customer Lifetime Value. A predicted CLTV is calculated using corporate formulas and existing data. The higher the value, the more valuable the customer. High value customers should be monitored for churn. |\n",
    "| **Churn Reason** | A customer’s specific reason for leaving the company. Directly related to Churn Category. |"
   ]
  },
  {
   "cell_type": "code",
   "execution_count": null,
   "id": "8599f4af",
   "metadata": {},
   "outputs": [],
   "source": []
  },
  {
   "cell_type": "code",
   "execution_count": 68,
   "id": "6f9e1f86",
   "metadata": {},
   "outputs": [],
   "source": [
    "# all libraries\n",
    "import numpy as np\n",
    "import pandas as pd\n",
    "import matplotlib.pyplot as plt\n",
    "import os\n",
    "import seaborn as sns\n",
    "import missingno as msno"
   ]
  },
  {
   "cell_type": "code",
   "execution_count": null,
   "id": "b913a12e",
   "metadata": {},
   "outputs": [],
   "source": []
  },
  {
   "cell_type": "markdown",
   "id": "06c97ab0",
   "metadata": {},
   "source": [
    "### Q1 Please read the file and explain data types statistically as well as how python is reading it. Please let us know if any data type is read wrong."
   ]
  },
  {
   "cell_type": "code",
   "execution_count": 69,
   "id": "b75ba010",
   "metadata": {},
   "outputs": [],
   "source": [
    "customer = pd.read_csv(\"Telco_customer_churn.xlsx - Telco_Churn.csv\")     # dataset"
   ]
  },
  {
   "cell_type": "code",
   "execution_count": 70,
   "id": "71ff5d17",
   "metadata": {},
   "outputs": [
    {
     "data": {
      "text/html": [
       "<div>\n",
       "<style scoped>\n",
       "    .dataframe tbody tr th:only-of-type {\n",
       "        vertical-align: middle;\n",
       "    }\n",
       "\n",
       "    .dataframe tbody tr th {\n",
       "        vertical-align: top;\n",
       "    }\n",
       "\n",
       "    .dataframe thead th {\n",
       "        text-align: right;\n",
       "    }\n",
       "</style>\n",
       "<table border=\"1\" class=\"dataframe\">\n",
       "  <thead>\n",
       "    <tr style=\"text-align: right;\">\n",
       "      <th></th>\n",
       "      <th>CustomerID</th>\n",
       "      <th>Count</th>\n",
       "      <th>Country</th>\n",
       "      <th>State</th>\n",
       "      <th>City</th>\n",
       "      <th>Zip Code</th>\n",
       "      <th>Lat Long</th>\n",
       "      <th>Latitude</th>\n",
       "      <th>Longitude</th>\n",
       "      <th>Gender</th>\n",
       "      <th>...</th>\n",
       "      <th>Contract</th>\n",
       "      <th>Paperless Billing</th>\n",
       "      <th>Payment Method</th>\n",
       "      <th>Monthly Charges</th>\n",
       "      <th>Total Charges</th>\n",
       "      <th>Churn Label</th>\n",
       "      <th>Churn Value</th>\n",
       "      <th>Churn Score</th>\n",
       "      <th>CLTV</th>\n",
       "      <th>Churn Reason</th>\n",
       "    </tr>\n",
       "  </thead>\n",
       "  <tbody>\n",
       "    <tr>\n",
       "      <th>0</th>\n",
       "      <td>3668-QPYBK</td>\n",
       "      <td>1</td>\n",
       "      <td>United States</td>\n",
       "      <td>California</td>\n",
       "      <td>Los Angeles</td>\n",
       "      <td>90003</td>\n",
       "      <td>33.964131, -118.272783</td>\n",
       "      <td>33.964131</td>\n",
       "      <td>-118.272783</td>\n",
       "      <td>Male</td>\n",
       "      <td>...</td>\n",
       "      <td>Month-to-month</td>\n",
       "      <td>Yes</td>\n",
       "      <td>Mailed check</td>\n",
       "      <td>53.85</td>\n",
       "      <td>108.15</td>\n",
       "      <td>Yes</td>\n",
       "      <td>1</td>\n",
       "      <td>86</td>\n",
       "      <td>3239</td>\n",
       "      <td>Competitor made better offer</td>\n",
       "    </tr>\n",
       "    <tr>\n",
       "      <th>1</th>\n",
       "      <td>9237-HQITU</td>\n",
       "      <td>1</td>\n",
       "      <td>United States</td>\n",
       "      <td>California</td>\n",
       "      <td>Los Angeles</td>\n",
       "      <td>90005</td>\n",
       "      <td>34.059281, -118.30742</td>\n",
       "      <td>34.059281</td>\n",
       "      <td>-118.307420</td>\n",
       "      <td>Female</td>\n",
       "      <td>...</td>\n",
       "      <td>Month-to-month</td>\n",
       "      <td>Yes</td>\n",
       "      <td>Electronic check</td>\n",
       "      <td>70.70</td>\n",
       "      <td>151.65</td>\n",
       "      <td>Yes</td>\n",
       "      <td>1</td>\n",
       "      <td>67</td>\n",
       "      <td>2701</td>\n",
       "      <td>Moved</td>\n",
       "    </tr>\n",
       "    <tr>\n",
       "      <th>2</th>\n",
       "      <td>9305-CDSKC</td>\n",
       "      <td>1</td>\n",
       "      <td>United States</td>\n",
       "      <td>California</td>\n",
       "      <td>Los Angeles</td>\n",
       "      <td>90006</td>\n",
       "      <td>34.048013, -118.293953</td>\n",
       "      <td>34.048013</td>\n",
       "      <td>-118.293953</td>\n",
       "      <td>Female</td>\n",
       "      <td>...</td>\n",
       "      <td>Month-to-month</td>\n",
       "      <td>Yes</td>\n",
       "      <td>Electronic check</td>\n",
       "      <td>99.65</td>\n",
       "      <td>820.5</td>\n",
       "      <td>Yes</td>\n",
       "      <td>1</td>\n",
       "      <td>86</td>\n",
       "      <td>5372</td>\n",
       "      <td>Moved</td>\n",
       "    </tr>\n",
       "    <tr>\n",
       "      <th>3</th>\n",
       "      <td>7892-POOKP</td>\n",
       "      <td>1</td>\n",
       "      <td>United States</td>\n",
       "      <td>California</td>\n",
       "      <td>Los Angeles</td>\n",
       "      <td>90010</td>\n",
       "      <td>34.062125, -118.315709</td>\n",
       "      <td>34.062125</td>\n",
       "      <td>-118.315709</td>\n",
       "      <td>Female</td>\n",
       "      <td>...</td>\n",
       "      <td>Month-to-month</td>\n",
       "      <td>Yes</td>\n",
       "      <td>Electronic check</td>\n",
       "      <td>104.80</td>\n",
       "      <td>3046.05</td>\n",
       "      <td>Yes</td>\n",
       "      <td>1</td>\n",
       "      <td>84</td>\n",
       "      <td>5003</td>\n",
       "      <td>Moved</td>\n",
       "    </tr>\n",
       "    <tr>\n",
       "      <th>4</th>\n",
       "      <td>0280-XJGEX</td>\n",
       "      <td>1</td>\n",
       "      <td>United States</td>\n",
       "      <td>California</td>\n",
       "      <td>Los Angeles</td>\n",
       "      <td>90015</td>\n",
       "      <td>34.039224, -118.266293</td>\n",
       "      <td>34.039224</td>\n",
       "      <td>-118.266293</td>\n",
       "      <td>Male</td>\n",
       "      <td>...</td>\n",
       "      <td>Month-to-month</td>\n",
       "      <td>Yes</td>\n",
       "      <td>Bank transfer (automatic)</td>\n",
       "      <td>103.70</td>\n",
       "      <td>5036.3</td>\n",
       "      <td>Yes</td>\n",
       "      <td>1</td>\n",
       "      <td>89</td>\n",
       "      <td>5340</td>\n",
       "      <td>Competitor had better devices</td>\n",
       "    </tr>\n",
       "  </tbody>\n",
       "</table>\n",
       "<p>5 rows × 33 columns</p>\n",
       "</div>"
      ],
      "text/plain": [
       "   CustomerID  Count        Country       State         City  Zip Code  \\\n",
       "0  3668-QPYBK      1  United States  California  Los Angeles     90003   \n",
       "1  9237-HQITU      1  United States  California  Los Angeles     90005   \n",
       "2  9305-CDSKC      1  United States  California  Los Angeles     90006   \n",
       "3  7892-POOKP      1  United States  California  Los Angeles     90010   \n",
       "4  0280-XJGEX      1  United States  California  Los Angeles     90015   \n",
       "\n",
       "                 Lat Long   Latitude   Longitude  Gender  ...        Contract  \\\n",
       "0  33.964131, -118.272783  33.964131 -118.272783    Male  ...  Month-to-month   \n",
       "1   34.059281, -118.30742  34.059281 -118.307420  Female  ...  Month-to-month   \n",
       "2  34.048013, -118.293953  34.048013 -118.293953  Female  ...  Month-to-month   \n",
       "3  34.062125, -118.315709  34.062125 -118.315709  Female  ...  Month-to-month   \n",
       "4  34.039224, -118.266293  34.039224 -118.266293    Male  ...  Month-to-month   \n",
       "\n",
       "  Paperless Billing             Payment Method  Monthly Charges Total Charges  \\\n",
       "0               Yes               Mailed check            53.85        108.15   \n",
       "1               Yes           Electronic check            70.70        151.65   \n",
       "2               Yes           Electronic check            99.65         820.5   \n",
       "3               Yes           Electronic check           104.80       3046.05   \n",
       "4               Yes  Bank transfer (automatic)           103.70        5036.3   \n",
       "\n",
       "  Churn Label Churn Value Churn Score  CLTV                   Churn Reason  \n",
       "0         Yes           1          86  3239   Competitor made better offer  \n",
       "1         Yes           1          67  2701                          Moved  \n",
       "2         Yes           1          86  5372                          Moved  \n",
       "3         Yes           1          84  5003                          Moved  \n",
       "4         Yes           1          89  5340  Competitor had better devices  \n",
       "\n",
       "[5 rows x 33 columns]"
      ]
     },
     "execution_count": 70,
     "metadata": {},
     "output_type": "execute_result"
    }
   ],
   "source": [
    "customer.head()      # head of the table"
   ]
  },
  {
   "cell_type": "code",
   "execution_count": 71,
   "id": "1b861eb5",
   "metadata": {},
   "outputs": [
    {
     "data": {
      "text/html": [
       "<div>\n",
       "<style scoped>\n",
       "    .dataframe tbody tr th:only-of-type {\n",
       "        vertical-align: middle;\n",
       "    }\n",
       "\n",
       "    .dataframe tbody tr th {\n",
       "        vertical-align: top;\n",
       "    }\n",
       "\n",
       "    .dataframe thead th {\n",
       "        text-align: right;\n",
       "    }\n",
       "</style>\n",
       "<table border=\"1\" class=\"dataframe\">\n",
       "  <thead>\n",
       "    <tr style=\"text-align: right;\">\n",
       "      <th></th>\n",
       "      <th>CustomerID</th>\n",
       "      <th>Count</th>\n",
       "      <th>Country</th>\n",
       "      <th>State</th>\n",
       "      <th>City</th>\n",
       "      <th>Zip Code</th>\n",
       "      <th>Lat Long</th>\n",
       "      <th>Latitude</th>\n",
       "      <th>Longitude</th>\n",
       "      <th>Gender</th>\n",
       "      <th>...</th>\n",
       "      <th>Contract</th>\n",
       "      <th>Paperless Billing</th>\n",
       "      <th>Payment Method</th>\n",
       "      <th>Monthly Charges</th>\n",
       "      <th>Total Charges</th>\n",
       "      <th>Churn Label</th>\n",
       "      <th>Churn Value</th>\n",
       "      <th>Churn Score</th>\n",
       "      <th>CLTV</th>\n",
       "      <th>Churn Reason</th>\n",
       "    </tr>\n",
       "  </thead>\n",
       "  <tbody>\n",
       "    <tr>\n",
       "      <th>7038</th>\n",
       "      <td>2569-WGERO</td>\n",
       "      <td>1</td>\n",
       "      <td>United States</td>\n",
       "      <td>California</td>\n",
       "      <td>Landers</td>\n",
       "      <td>92285</td>\n",
       "      <td>34.341737, -116.539416</td>\n",
       "      <td>34.341737</td>\n",
       "      <td>-116.539416</td>\n",
       "      <td>Female</td>\n",
       "      <td>...</td>\n",
       "      <td>Two year</td>\n",
       "      <td>Yes</td>\n",
       "      <td>Bank transfer (automatic)</td>\n",
       "      <td>21.15</td>\n",
       "      <td>1419.4</td>\n",
       "      <td>No</td>\n",
       "      <td>0</td>\n",
       "      <td>45</td>\n",
       "      <td>5306</td>\n",
       "      <td>NaN</td>\n",
       "    </tr>\n",
       "    <tr>\n",
       "      <th>7039</th>\n",
       "      <td>6840-RESVB</td>\n",
       "      <td>1</td>\n",
       "      <td>United States</td>\n",
       "      <td>California</td>\n",
       "      <td>Adelanto</td>\n",
       "      <td>92301</td>\n",
       "      <td>34.667815, -117.536183</td>\n",
       "      <td>34.667815</td>\n",
       "      <td>-117.536183</td>\n",
       "      <td>Male</td>\n",
       "      <td>...</td>\n",
       "      <td>One year</td>\n",
       "      <td>Yes</td>\n",
       "      <td>Mailed check</td>\n",
       "      <td>84.80</td>\n",
       "      <td>1990.5</td>\n",
       "      <td>No</td>\n",
       "      <td>0</td>\n",
       "      <td>59</td>\n",
       "      <td>2140</td>\n",
       "      <td>NaN</td>\n",
       "    </tr>\n",
       "    <tr>\n",
       "      <th>7040</th>\n",
       "      <td>2234-XADUH</td>\n",
       "      <td>1</td>\n",
       "      <td>United States</td>\n",
       "      <td>California</td>\n",
       "      <td>Amboy</td>\n",
       "      <td>92304</td>\n",
       "      <td>34.559882, -115.637164</td>\n",
       "      <td>34.559882</td>\n",
       "      <td>-115.637164</td>\n",
       "      <td>Female</td>\n",
       "      <td>...</td>\n",
       "      <td>One year</td>\n",
       "      <td>Yes</td>\n",
       "      <td>Credit card (automatic)</td>\n",
       "      <td>103.20</td>\n",
       "      <td>7362.9</td>\n",
       "      <td>No</td>\n",
       "      <td>0</td>\n",
       "      <td>71</td>\n",
       "      <td>5560</td>\n",
       "      <td>NaN</td>\n",
       "    </tr>\n",
       "    <tr>\n",
       "      <th>7041</th>\n",
       "      <td>4801-JZAZL</td>\n",
       "      <td>1</td>\n",
       "      <td>United States</td>\n",
       "      <td>California</td>\n",
       "      <td>Angelus Oaks</td>\n",
       "      <td>92305</td>\n",
       "      <td>34.1678, -116.86433</td>\n",
       "      <td>34.167800</td>\n",
       "      <td>-116.864330</td>\n",
       "      <td>Female</td>\n",
       "      <td>...</td>\n",
       "      <td>Month-to-month</td>\n",
       "      <td>Yes</td>\n",
       "      <td>Electronic check</td>\n",
       "      <td>29.60</td>\n",
       "      <td>346.45</td>\n",
       "      <td>No</td>\n",
       "      <td>0</td>\n",
       "      <td>59</td>\n",
       "      <td>2793</td>\n",
       "      <td>NaN</td>\n",
       "    </tr>\n",
       "    <tr>\n",
       "      <th>7042</th>\n",
       "      <td>3186-AJIEK</td>\n",
       "      <td>1</td>\n",
       "      <td>United States</td>\n",
       "      <td>California</td>\n",
       "      <td>Apple Valley</td>\n",
       "      <td>92308</td>\n",
       "      <td>34.424926, -117.184503</td>\n",
       "      <td>34.424926</td>\n",
       "      <td>-117.184503</td>\n",
       "      <td>Male</td>\n",
       "      <td>...</td>\n",
       "      <td>Two year</td>\n",
       "      <td>Yes</td>\n",
       "      <td>Bank transfer (automatic)</td>\n",
       "      <td>105.65</td>\n",
       "      <td>6844.5</td>\n",
       "      <td>No</td>\n",
       "      <td>0</td>\n",
       "      <td>38</td>\n",
       "      <td>5097</td>\n",
       "      <td>NaN</td>\n",
       "    </tr>\n",
       "  </tbody>\n",
       "</table>\n",
       "<p>5 rows × 33 columns</p>\n",
       "</div>"
      ],
      "text/plain": [
       "      CustomerID  Count        Country       State          City  Zip Code  \\\n",
       "7038  2569-WGERO      1  United States  California       Landers     92285   \n",
       "7039  6840-RESVB      1  United States  California      Adelanto     92301   \n",
       "7040  2234-XADUH      1  United States  California         Amboy     92304   \n",
       "7041  4801-JZAZL      1  United States  California  Angelus Oaks     92305   \n",
       "7042  3186-AJIEK      1  United States  California  Apple Valley     92308   \n",
       "\n",
       "                    Lat Long   Latitude   Longitude  Gender  ...  \\\n",
       "7038  34.341737, -116.539416  34.341737 -116.539416  Female  ...   \n",
       "7039  34.667815, -117.536183  34.667815 -117.536183    Male  ...   \n",
       "7040  34.559882, -115.637164  34.559882 -115.637164  Female  ...   \n",
       "7041     34.1678, -116.86433  34.167800 -116.864330  Female  ...   \n",
       "7042  34.424926, -117.184503  34.424926 -117.184503    Male  ...   \n",
       "\n",
       "            Contract Paperless Billing             Payment Method  \\\n",
       "7038        Two year               Yes  Bank transfer (automatic)   \n",
       "7039        One year               Yes               Mailed check   \n",
       "7040        One year               Yes    Credit card (automatic)   \n",
       "7041  Month-to-month               Yes           Electronic check   \n",
       "7042        Two year               Yes  Bank transfer (automatic)   \n",
       "\n",
       "      Monthly Charges Total Charges Churn Label Churn Value Churn Score  CLTV  \\\n",
       "7038            21.15        1419.4          No           0          45  5306   \n",
       "7039            84.80        1990.5          No           0          59  2140   \n",
       "7040           103.20        7362.9          No           0          71  5560   \n",
       "7041            29.60        346.45          No           0          59  2793   \n",
       "7042           105.65        6844.5          No           0          38  5097   \n",
       "\n",
       "     Churn Reason  \n",
       "7038          NaN  \n",
       "7039          NaN  \n",
       "7040          NaN  \n",
       "7041          NaN  \n",
       "7042          NaN  \n",
       "\n",
       "[5 rows x 33 columns]"
      ]
     },
     "execution_count": 71,
     "metadata": {},
     "output_type": "execute_result"
    }
   ],
   "source": [
    "customer.tail()           # tail of the table"
   ]
  },
  {
   "cell_type": "code",
   "execution_count": 72,
   "id": "cada040a",
   "metadata": {},
   "outputs": [
    {
     "data": {
      "text/plain": [
       "CustomerID           7043\n",
       "Count                   1\n",
       "Country                 1\n",
       "State                   1\n",
       "City                 1129\n",
       "Zip Code             1652\n",
       "Lat Long             1652\n",
       "Latitude             1652\n",
       "Longitude            1651\n",
       "Gender                  2\n",
       "Senior Citizen          2\n",
       "Partner                 2\n",
       "Dependents              2\n",
       "Tenure Months          73\n",
       "Phone Service           2\n",
       "Multiple Lines          3\n",
       "Internet Service        3\n",
       "Online Security         3\n",
       "Online Backup           3\n",
       "Device Protection       3\n",
       "Tech Support            3\n",
       "Streaming TV            3\n",
       "Streaming Movies        3\n",
       "Contract                3\n",
       "Paperless Billing       2\n",
       "Payment Method          4\n",
       "Monthly Charges      1585\n",
       "Total Charges        6531\n",
       "Churn Label             2\n",
       "Churn Value             2\n",
       "Churn Score            85\n",
       "CLTV                 3438\n",
       "Churn Reason           20\n",
       "dtype: int64"
      ]
     },
     "execution_count": 72,
     "metadata": {},
     "output_type": "execute_result"
    }
   ],
   "source": [
    "customer.nunique()            # checking unique values in each columns."
   ]
  },
  {
   "cell_type": "code",
   "execution_count": 73,
   "id": "4a3191dc",
   "metadata": {},
   "outputs": [
    {
     "data": {
      "text/plain": [
       "CustomerID              0\n",
       "Count                   0\n",
       "Country                 0\n",
       "State                   0\n",
       "City                    0\n",
       "Zip Code                0\n",
       "Lat Long                0\n",
       "Latitude                0\n",
       "Longitude               0\n",
       "Gender                  0\n",
       "Senior Citizen          0\n",
       "Partner                 0\n",
       "Dependents              0\n",
       "Tenure Months           0\n",
       "Phone Service           0\n",
       "Multiple Lines          0\n",
       "Internet Service        0\n",
       "Online Security         0\n",
       "Online Backup           0\n",
       "Device Protection       0\n",
       "Tech Support            0\n",
       "Streaming TV            0\n",
       "Streaming Movies        0\n",
       "Contract                0\n",
       "Paperless Billing       0\n",
       "Payment Method          0\n",
       "Monthly Charges         0\n",
       "Total Charges           0\n",
       "Churn Label             0\n",
       "Churn Value             0\n",
       "Churn Score             0\n",
       "CLTV                    0\n",
       "Churn Reason         5174\n",
       "dtype: int64"
      ]
     },
     "execution_count": 73,
     "metadata": {},
     "output_type": "execute_result"
    }
   ],
   "source": [
    "customer.isnull().sum()            # checking null values or total null values.\n",
    "                                   # Churn Reason contains  5174  null values."
   ]
  },
  {
   "cell_type": "code",
   "execution_count": 74,
   "id": "9c71e927",
   "metadata": {},
   "outputs": [],
   "source": [
    "# renaming columns.\n",
    "customer = customer.rename(columns={'CustomerID':'Customer_ID','Zip Code':'Zip_Code','Lat Long':'Lat_Long','Senior Citizen':'Senior_Citizen','Tenure Months':'Tenure_Months','Phone Service':'Phone_Service','Multiple Lines':'Multiple_Lines','Internet Service':'Internet_Service','Online Security':'Online_Security','Online Backup':'Online_Backup','Device Protection':'Device_Protection','Tech Support':'Tech_Support','Streaming TV':'Streaming_TV','Streaming Movies':'Streaming_Movies','Paperless Billing':'Paperless_Billing','Payment Method':'Payment_Method','Monthly Charges':'Monthly_Charges','Total Charges':'Total_Charges','Churn Label':'Churn_Label','Churn Value':'Churn_Value','Churn Score':'Churn_Score','Churn Reason':'Churn_Reason'})"
   ]
  },
  {
   "cell_type": "code",
   "execution_count": 75,
   "id": "b469bd85",
   "metadata": {},
   "outputs": [],
   "source": [
    " # dropping duplicated values in rows and columns. \n",
    "customer = customer.drop_duplicates()           "
   ]
  },
  {
   "cell_type": "code",
   "execution_count": 76,
   "id": "80e68d58",
   "metadata": {},
   "outputs": [],
   "source": [
    "# dropping unnecessary columns.\n",
    "customer = customer.drop(['Customer_ID'], axis=1)       "
   ]
  },
  {
   "cell_type": "code",
   "execution_count": 77,
   "id": "3a46d263",
   "metadata": {},
   "outputs": [],
   "source": [
    "# changing Dtype of some columns into 'category'.\n",
    "# in this, i have changed most of colmns dtype into category.\n",
    "\n",
    "customer['Country'] = customer['Country'].astype('category')\n",
    "customer['State'] = customer['State'].astype('category')\n",
    "customer['City'] = customer['City'].astype('category')\n",
    "customer['Zip_Code'] = customer['Zip_Code'].astype('category')\n",
    "customer['Gender'] = customer['Gender'].astype('category')\n",
    "customer['Senior_Citizen'] = customer['Senior_Citizen'].astype('category')\n",
    "customer['Partner'] = customer['Partner'].astype('category')\n",
    "customer['Dependents'] = customer['Dependents'].astype('category')\n",
    "customer['Phone_Service'] = customer['Phone_Service'].astype('category')\n",
    "customer['Multiple_Lines'] = customer['Multiple_Lines'].astype('category')\n",
    "customer['Internet_Service'] = customer['Internet_Service'].astype('category')\n",
    "customer['Online_Security'] = customer['Online_Security'].astype('category')\n",
    "customer['Online_Backup'] = customer['Online_Backup'].astype('category')\n",
    "customer['Device_Protection'] = customer['Device_Protection'].astype('category')\n",
    "customer['Tech_Support'] = customer['Tech_Support'].astype('category')\n",
    "customer['Streaming_TV'] = customer['Streaming_TV'].astype('category')\n",
    "customer['Streaming_Movies'] = customer['Streaming_Movies'].astype('category')\n",
    "customer['Dependents'] = customer['Dependents'].astype('category')\n",
    "customer['Contract'] = customer['Contract'].astype('category')\n",
    "customer['Paperless_Billing'] = customer['Paperless_Billing'].astype('category')\n",
    "customer['Payment_Method'] = customer['Payment_Method'].astype('category')\n",
    "customer['Churn_Label'] = customer['Churn_Label'].astype('category')\n",
    "customer['Churn_Value'] = customer['Churn_Value'].astype('category')\n",
    "customer['Churn_Reason'] = customer['Churn_Reason'].astype('category')"
   ]
  },
  {
   "cell_type": "code",
   "execution_count": 78,
   "id": "7301989e",
   "metadata": {},
   "outputs": [],
   "source": [
    "# here i am changing the black spaces into nan of total_charges.\n",
    "\n",
    "customer['Total_Charges'] = customer['Total_Charges'].replace(r'\\s+',np.nan, regex=True)"
   ]
  },
  {
   "cell_type": "code",
   "execution_count": 79,
   "id": "8a2c9c67",
   "metadata": {},
   "outputs": [],
   "source": [
    "# changing Dtype\n",
    "customer['Total_Charges'] = customer['Total_Charges'].astype(float)"
   ]
  },
  {
   "cell_type": "code",
   "execution_count": 80,
   "id": "d594261d",
   "metadata": {},
   "outputs": [
    {
     "name": "stdout",
     "output_type": "stream",
     "text": [
      "<class 'pandas.core.frame.DataFrame'>\n",
      "Int64Index: 7043 entries, 0 to 7042\n",
      "Data columns (total 32 columns):\n",
      " #   Column             Non-Null Count  Dtype   \n",
      "---  ------             --------------  -----   \n",
      " 0   Count              7043 non-null   int64   \n",
      " 1   Country            7043 non-null   category\n",
      " 2   State              7043 non-null   category\n",
      " 3   City               7043 non-null   category\n",
      " 4   Zip_Code           7043 non-null   category\n",
      " 5   Lat_Long           7043 non-null   object  \n",
      " 6   Latitude           7043 non-null   float64 \n",
      " 7   Longitude          7043 non-null   float64 \n",
      " 8   Gender             7043 non-null   category\n",
      " 9   Senior_Citizen     7043 non-null   category\n",
      " 10  Partner            7043 non-null   category\n",
      " 11  Dependents         7043 non-null   category\n",
      " 12  Tenure_Months      7043 non-null   int64   \n",
      " 13  Phone_Service      7043 non-null   category\n",
      " 14  Multiple_Lines     7043 non-null   category\n",
      " 15  Internet_Service   7043 non-null   category\n",
      " 16  Online_Security    7043 non-null   category\n",
      " 17  Online_Backup      7043 non-null   category\n",
      " 18  Device_Protection  7043 non-null   category\n",
      " 19  Tech_Support       7043 non-null   category\n",
      " 20  Streaming_TV       7043 non-null   category\n",
      " 21  Streaming_Movies   7043 non-null   category\n",
      " 22  Contract           7043 non-null   category\n",
      " 23  Paperless_Billing  7043 non-null   category\n",
      " 24  Payment_Method     7043 non-null   category\n",
      " 25  Monthly_Charges    7043 non-null   float64 \n",
      " 26  Total_Charges      7032 non-null   float64 \n",
      " 27  Churn_Label        7043 non-null   category\n",
      " 28  Churn_Value        7043 non-null   category\n",
      " 29  Churn_Score        7043 non-null   int64   \n",
      " 30  CLTV               7043 non-null   int64   \n",
      " 31  Churn_Reason       1869 non-null   category\n",
      "dtypes: category(23), float64(4), int64(4), object(1)\n",
      "memory usage: 844.0+ KB\n"
     ]
    }
   ],
   "source": [
    "# checking Dtype \n",
    "customer.info()"
   ]
  },
  {
   "cell_type": "code",
   "execution_count": 81,
   "id": "07e0b857",
   "metadata": {},
   "outputs": [
    {
     "data": {
      "text/html": [
       "<div>\n",
       "<style scoped>\n",
       "    .dataframe tbody tr th:only-of-type {\n",
       "        vertical-align: middle;\n",
       "    }\n",
       "\n",
       "    .dataframe tbody tr th {\n",
       "        vertical-align: top;\n",
       "    }\n",
       "\n",
       "    .dataframe thead th {\n",
       "        text-align: right;\n",
       "    }\n",
       "</style>\n",
       "<table border=\"1\" class=\"dataframe\">\n",
       "  <thead>\n",
       "    <tr style=\"text-align: right;\">\n",
       "      <th></th>\n",
       "      <th>Count</th>\n",
       "      <th>Country</th>\n",
       "      <th>State</th>\n",
       "      <th>City</th>\n",
       "      <th>Zip_Code</th>\n",
       "      <th>Lat_Long</th>\n",
       "      <th>Latitude</th>\n",
       "      <th>Longitude</th>\n",
       "      <th>Gender</th>\n",
       "      <th>Senior_Citizen</th>\n",
       "      <th>...</th>\n",
       "      <th>Contract</th>\n",
       "      <th>Paperless_Billing</th>\n",
       "      <th>Payment_Method</th>\n",
       "      <th>Monthly_Charges</th>\n",
       "      <th>Total_Charges</th>\n",
       "      <th>Churn_Label</th>\n",
       "      <th>Churn_Value</th>\n",
       "      <th>Churn_Score</th>\n",
       "      <th>CLTV</th>\n",
       "      <th>Churn_Reason</th>\n",
       "    </tr>\n",
       "  </thead>\n",
       "  <tbody>\n",
       "    <tr>\n",
       "      <th>count</th>\n",
       "      <td>7043.0</td>\n",
       "      <td>7043</td>\n",
       "      <td>7043</td>\n",
       "      <td>7043</td>\n",
       "      <td>7043.0</td>\n",
       "      <td>7043</td>\n",
       "      <td>7043.000000</td>\n",
       "      <td>7043.000000</td>\n",
       "      <td>7043</td>\n",
       "      <td>7043</td>\n",
       "      <td>...</td>\n",
       "      <td>7043</td>\n",
       "      <td>7043</td>\n",
       "      <td>7043</td>\n",
       "      <td>7043.000000</td>\n",
       "      <td>7032.000000</td>\n",
       "      <td>7043</td>\n",
       "      <td>7043.0</td>\n",
       "      <td>7043.000000</td>\n",
       "      <td>7043.000000</td>\n",
       "      <td>1869</td>\n",
       "    </tr>\n",
       "    <tr>\n",
       "      <th>unique</th>\n",
       "      <td>NaN</td>\n",
       "      <td>1</td>\n",
       "      <td>1</td>\n",
       "      <td>1129</td>\n",
       "      <td>1652.0</td>\n",
       "      <td>1652</td>\n",
       "      <td>NaN</td>\n",
       "      <td>NaN</td>\n",
       "      <td>2</td>\n",
       "      <td>2</td>\n",
       "      <td>...</td>\n",
       "      <td>3</td>\n",
       "      <td>2</td>\n",
       "      <td>4</td>\n",
       "      <td>NaN</td>\n",
       "      <td>NaN</td>\n",
       "      <td>2</td>\n",
       "      <td>2.0</td>\n",
       "      <td>NaN</td>\n",
       "      <td>NaN</td>\n",
       "      <td>20</td>\n",
       "    </tr>\n",
       "    <tr>\n",
       "      <th>top</th>\n",
       "      <td>NaN</td>\n",
       "      <td>United States</td>\n",
       "      <td>California</td>\n",
       "      <td>Los Angeles</td>\n",
       "      <td>90001.0</td>\n",
       "      <td>33.90139, -118.315697</td>\n",
       "      <td>NaN</td>\n",
       "      <td>NaN</td>\n",
       "      <td>Male</td>\n",
       "      <td>No</td>\n",
       "      <td>...</td>\n",
       "      <td>Month-to-month</td>\n",
       "      <td>Yes</td>\n",
       "      <td>Electronic check</td>\n",
       "      <td>NaN</td>\n",
       "      <td>NaN</td>\n",
       "      <td>No</td>\n",
       "      <td>0.0</td>\n",
       "      <td>NaN</td>\n",
       "      <td>NaN</td>\n",
       "      <td>Attitude of support person</td>\n",
       "    </tr>\n",
       "    <tr>\n",
       "      <th>freq</th>\n",
       "      <td>NaN</td>\n",
       "      <td>7043</td>\n",
       "      <td>7043</td>\n",
       "      <td>305</td>\n",
       "      <td>5.0</td>\n",
       "      <td>5</td>\n",
       "      <td>NaN</td>\n",
       "      <td>NaN</td>\n",
       "      <td>3555</td>\n",
       "      <td>5901</td>\n",
       "      <td>...</td>\n",
       "      <td>3875</td>\n",
       "      <td>4171</td>\n",
       "      <td>2365</td>\n",
       "      <td>NaN</td>\n",
       "      <td>NaN</td>\n",
       "      <td>5174</td>\n",
       "      <td>5174.0</td>\n",
       "      <td>NaN</td>\n",
       "      <td>NaN</td>\n",
       "      <td>192</td>\n",
       "    </tr>\n",
       "    <tr>\n",
       "      <th>mean</th>\n",
       "      <td>1.0</td>\n",
       "      <td>NaN</td>\n",
       "      <td>NaN</td>\n",
       "      <td>NaN</td>\n",
       "      <td>NaN</td>\n",
       "      <td>NaN</td>\n",
       "      <td>36.282441</td>\n",
       "      <td>-119.798880</td>\n",
       "      <td>NaN</td>\n",
       "      <td>NaN</td>\n",
       "      <td>...</td>\n",
       "      <td>NaN</td>\n",
       "      <td>NaN</td>\n",
       "      <td>NaN</td>\n",
       "      <td>64.761692</td>\n",
       "      <td>2283.300441</td>\n",
       "      <td>NaN</td>\n",
       "      <td>NaN</td>\n",
       "      <td>58.699418</td>\n",
       "      <td>4400.295755</td>\n",
       "      <td>NaN</td>\n",
       "    </tr>\n",
       "    <tr>\n",
       "      <th>std</th>\n",
       "      <td>0.0</td>\n",
       "      <td>NaN</td>\n",
       "      <td>NaN</td>\n",
       "      <td>NaN</td>\n",
       "      <td>NaN</td>\n",
       "      <td>NaN</td>\n",
       "      <td>2.455723</td>\n",
       "      <td>2.157889</td>\n",
       "      <td>NaN</td>\n",
       "      <td>NaN</td>\n",
       "      <td>...</td>\n",
       "      <td>NaN</td>\n",
       "      <td>NaN</td>\n",
       "      <td>NaN</td>\n",
       "      <td>30.090047</td>\n",
       "      <td>2266.771362</td>\n",
       "      <td>NaN</td>\n",
       "      <td>NaN</td>\n",
       "      <td>21.525131</td>\n",
       "      <td>1183.057152</td>\n",
       "      <td>NaN</td>\n",
       "    </tr>\n",
       "    <tr>\n",
       "      <th>min</th>\n",
       "      <td>1.0</td>\n",
       "      <td>NaN</td>\n",
       "      <td>NaN</td>\n",
       "      <td>NaN</td>\n",
       "      <td>NaN</td>\n",
       "      <td>NaN</td>\n",
       "      <td>32.555828</td>\n",
       "      <td>-124.301372</td>\n",
       "      <td>NaN</td>\n",
       "      <td>NaN</td>\n",
       "      <td>...</td>\n",
       "      <td>NaN</td>\n",
       "      <td>NaN</td>\n",
       "      <td>NaN</td>\n",
       "      <td>18.250000</td>\n",
       "      <td>18.800000</td>\n",
       "      <td>NaN</td>\n",
       "      <td>NaN</td>\n",
       "      <td>5.000000</td>\n",
       "      <td>2003.000000</td>\n",
       "      <td>NaN</td>\n",
       "    </tr>\n",
       "    <tr>\n",
       "      <th>25%</th>\n",
       "      <td>1.0</td>\n",
       "      <td>NaN</td>\n",
       "      <td>NaN</td>\n",
       "      <td>NaN</td>\n",
       "      <td>NaN</td>\n",
       "      <td>NaN</td>\n",
       "      <td>34.030915</td>\n",
       "      <td>-121.815412</td>\n",
       "      <td>NaN</td>\n",
       "      <td>NaN</td>\n",
       "      <td>...</td>\n",
       "      <td>NaN</td>\n",
       "      <td>NaN</td>\n",
       "      <td>NaN</td>\n",
       "      <td>35.500000</td>\n",
       "      <td>401.450000</td>\n",
       "      <td>NaN</td>\n",
       "      <td>NaN</td>\n",
       "      <td>40.000000</td>\n",
       "      <td>3469.000000</td>\n",
       "      <td>NaN</td>\n",
       "    </tr>\n",
       "    <tr>\n",
       "      <th>50%</th>\n",
       "      <td>1.0</td>\n",
       "      <td>NaN</td>\n",
       "      <td>NaN</td>\n",
       "      <td>NaN</td>\n",
       "      <td>NaN</td>\n",
       "      <td>NaN</td>\n",
       "      <td>36.391777</td>\n",
       "      <td>-119.730885</td>\n",
       "      <td>NaN</td>\n",
       "      <td>NaN</td>\n",
       "      <td>...</td>\n",
       "      <td>NaN</td>\n",
       "      <td>NaN</td>\n",
       "      <td>NaN</td>\n",
       "      <td>70.350000</td>\n",
       "      <td>1397.475000</td>\n",
       "      <td>NaN</td>\n",
       "      <td>NaN</td>\n",
       "      <td>61.000000</td>\n",
       "      <td>4527.000000</td>\n",
       "      <td>NaN</td>\n",
       "    </tr>\n",
       "    <tr>\n",
       "      <th>75%</th>\n",
       "      <td>1.0</td>\n",
       "      <td>NaN</td>\n",
       "      <td>NaN</td>\n",
       "      <td>NaN</td>\n",
       "      <td>NaN</td>\n",
       "      <td>NaN</td>\n",
       "      <td>38.224869</td>\n",
       "      <td>-118.043237</td>\n",
       "      <td>NaN</td>\n",
       "      <td>NaN</td>\n",
       "      <td>...</td>\n",
       "      <td>NaN</td>\n",
       "      <td>NaN</td>\n",
       "      <td>NaN</td>\n",
       "      <td>89.850000</td>\n",
       "      <td>3794.737500</td>\n",
       "      <td>NaN</td>\n",
       "      <td>NaN</td>\n",
       "      <td>75.000000</td>\n",
       "      <td>5380.500000</td>\n",
       "      <td>NaN</td>\n",
       "    </tr>\n",
       "    <tr>\n",
       "      <th>max</th>\n",
       "      <td>1.0</td>\n",
       "      <td>NaN</td>\n",
       "      <td>NaN</td>\n",
       "      <td>NaN</td>\n",
       "      <td>NaN</td>\n",
       "      <td>NaN</td>\n",
       "      <td>41.962127</td>\n",
       "      <td>-114.192901</td>\n",
       "      <td>NaN</td>\n",
       "      <td>NaN</td>\n",
       "      <td>...</td>\n",
       "      <td>NaN</td>\n",
       "      <td>NaN</td>\n",
       "      <td>NaN</td>\n",
       "      <td>118.750000</td>\n",
       "      <td>8684.800000</td>\n",
       "      <td>NaN</td>\n",
       "      <td>NaN</td>\n",
       "      <td>100.000000</td>\n",
       "      <td>6500.000000</td>\n",
       "      <td>NaN</td>\n",
       "    </tr>\n",
       "  </tbody>\n",
       "</table>\n",
       "<p>11 rows × 32 columns</p>\n",
       "</div>"
      ],
      "text/plain": [
       "         Count        Country       State         City  Zip_Code  \\\n",
       "count   7043.0           7043        7043         7043    7043.0   \n",
       "unique     NaN              1           1         1129    1652.0   \n",
       "top        NaN  United States  California  Los Angeles   90001.0   \n",
       "freq       NaN           7043        7043          305       5.0   \n",
       "mean       1.0            NaN         NaN          NaN       NaN   \n",
       "std        0.0            NaN         NaN          NaN       NaN   \n",
       "min        1.0            NaN         NaN          NaN       NaN   \n",
       "25%        1.0            NaN         NaN          NaN       NaN   \n",
       "50%        1.0            NaN         NaN          NaN       NaN   \n",
       "75%        1.0            NaN         NaN          NaN       NaN   \n",
       "max        1.0            NaN         NaN          NaN       NaN   \n",
       "\n",
       "                     Lat_Long     Latitude    Longitude Gender Senior_Citizen  \\\n",
       "count                    7043  7043.000000  7043.000000   7043           7043   \n",
       "unique                   1652          NaN          NaN      2              2   \n",
       "top     33.90139, -118.315697          NaN          NaN   Male             No   \n",
       "freq                        5          NaN          NaN   3555           5901   \n",
       "mean                      NaN    36.282441  -119.798880    NaN            NaN   \n",
       "std                       NaN     2.455723     2.157889    NaN            NaN   \n",
       "min                       NaN    32.555828  -124.301372    NaN            NaN   \n",
       "25%                       NaN    34.030915  -121.815412    NaN            NaN   \n",
       "50%                       NaN    36.391777  -119.730885    NaN            NaN   \n",
       "75%                       NaN    38.224869  -118.043237    NaN            NaN   \n",
       "max                       NaN    41.962127  -114.192901    NaN            NaN   \n",
       "\n",
       "        ...        Contract Paperless_Billing    Payment_Method  \\\n",
       "count   ...            7043              7043              7043   \n",
       "unique  ...               3                 2                 4   \n",
       "top     ...  Month-to-month               Yes  Electronic check   \n",
       "freq    ...            3875              4171              2365   \n",
       "mean    ...             NaN               NaN               NaN   \n",
       "std     ...             NaN               NaN               NaN   \n",
       "min     ...             NaN               NaN               NaN   \n",
       "25%     ...             NaN               NaN               NaN   \n",
       "50%     ...             NaN               NaN               NaN   \n",
       "75%     ...             NaN               NaN               NaN   \n",
       "max     ...             NaN               NaN               NaN   \n",
       "\n",
       "       Monthly_Charges Total_Charges Churn_Label Churn_Value  Churn_Score  \\\n",
       "count      7043.000000   7032.000000        7043      7043.0  7043.000000   \n",
       "unique             NaN           NaN           2         2.0          NaN   \n",
       "top                NaN           NaN          No         0.0          NaN   \n",
       "freq               NaN           NaN        5174      5174.0          NaN   \n",
       "mean         64.761692   2283.300441         NaN         NaN    58.699418   \n",
       "std          30.090047   2266.771362         NaN         NaN    21.525131   \n",
       "min          18.250000     18.800000         NaN         NaN     5.000000   \n",
       "25%          35.500000    401.450000         NaN         NaN    40.000000   \n",
       "50%          70.350000   1397.475000         NaN         NaN    61.000000   \n",
       "75%          89.850000   3794.737500         NaN         NaN    75.000000   \n",
       "max         118.750000   8684.800000         NaN         NaN   100.000000   \n",
       "\n",
       "               CLTV                Churn_Reason  \n",
       "count   7043.000000                        1869  \n",
       "unique          NaN                          20  \n",
       "top             NaN  Attitude of support person  \n",
       "freq            NaN                         192  \n",
       "mean    4400.295755                         NaN  \n",
       "std     1183.057152                         NaN  \n",
       "min     2003.000000                         NaN  \n",
       "25%     3469.000000                         NaN  \n",
       "50%     4527.000000                         NaN  \n",
       "75%     5380.500000                         NaN  \n",
       "max     6500.000000                         NaN  \n",
       "\n",
       "[11 rows x 32 columns]"
      ]
     },
     "execution_count": 81,
     "metadata": {},
     "output_type": "execute_result"
    }
   ],
   "source": [
    "customer.describe(include='all')         # summary of all columns."
   ]
  },
  {
   "cell_type": "code",
   "execution_count": 82,
   "id": "bec59c28",
   "metadata": {
    "scrolled": false
   },
   "outputs": [
    {
     "data": {
      "text/plain": [
       "<AxesSubplot:>"
      ]
     },
     "execution_count": 82,
     "metadata": {},
     "output_type": "execute_result"
    },
    {
     "data": {
      "image/png": "[encoded data removed]",
      "text/plain": [
       "<Figure size 1800x720 with 3 Axes>"
      ]
     },
     "metadata": {
      "needs_background": "light"
     },
     "output_type": "display_data"
    }
   ],
   "source": [
    "msno.bar(customer)  # checking missing values in columns.\n",
    "                    # churn_reason have highest null values."
   ]
  },
  {
   "cell_type": "code",
   "execution_count": 83,
   "id": "341ad0f7",
   "metadata": {},
   "outputs": [
    {
     "data": {
      "text/plain": [
       "<AxesSubplot:>"
      ]
     },
     "execution_count": 83,
     "metadata": {},
     "output_type": "execute_result"
    },
    {
     "data": {
      "image/png": "[encoded data removed]",
      "text/plain": [
       "<Figure size 1800x720 with 2 Axes>"
      ]
     },
     "metadata": {
      "needs_background": "light"
     },
     "output_type": "display_data"
    }
   ],
   "source": [
    "msno.matrix(customer)       # checking matching patterns of columns."
   ]
  },
  {
   "cell_type": "code",
   "execution_count": null,
   "id": "0a689aac",
   "metadata": {},
   "outputs": [],
   "source": []
  },
  {
   "cell_type": "code",
   "execution_count": null,
   "id": "478983b1",
   "metadata": {},
   "outputs": [],
   "source": []
  },
  {
   "cell_type": "markdown",
   "id": "fc1e9ba9",
   "metadata": {},
   "source": [
    "### Q2 Please apply appropriate statistical measures using python based on data types."
   ]
  },
  {
   "cell_type": "markdown",
   "id": "0cd9850b",
   "metadata": {},
   "source": [
    "#### Standar Deviation"
   ]
  },
  {
   "cell_type": "code",
   "execution_count": 84,
   "id": "a54c393d",
   "metadata": {},
   "outputs": [
    {
     "data": {
      "text/plain": [
       "30.090047097678507"
      ]
     },
     "execution_count": 84,
     "metadata": {},
     "output_type": "execute_result"
    }
   ],
   "source": [
    "customer.Monthly_Charges.std()        # using statistical measure 'standard deviation'"
   ]
  },
  {
   "cell_type": "markdown",
   "id": "4f3f4792",
   "metadata": {},
   "source": [
    "#### Mode"
   ]
  },
  {
   "cell_type": "code",
   "execution_count": 85,
   "id": "c673a31a",
   "metadata": {},
   "outputs": [
    {
     "data": {
      "text/plain": [
       "0    20.05\n",
       "dtype: float64"
      ]
     },
     "execution_count": 85,
     "metadata": {},
     "output_type": "execute_result"
    }
   ],
   "source": [
    "customer.Monthly_Charges.mode()        # using statistical measure 'mode'"
   ]
  },
  {
   "cell_type": "markdown",
   "id": "30027313",
   "metadata": {},
   "source": [
    "#### Variance"
   ]
  },
  {
   "cell_type": "code",
   "execution_count": 86,
   "id": "08cd6c89",
   "metadata": {},
   "outputs": [
    {
     "data": {
      "text/plain": [
       "905.4109343405107"
      ]
     },
     "execution_count": 86,
     "metadata": {},
     "output_type": "execute_result"
    }
   ],
   "source": [
    "customer.Monthly_Charges.var()         # using statistical measure 'variance'"
   ]
  },
  {
   "cell_type": "markdown",
   "id": "7a4a8beb",
   "metadata": {},
   "source": [
    "#### Mean"
   ]
  },
  {
   "cell_type": "code",
   "execution_count": 87,
   "id": "4126dc2d",
   "metadata": {},
   "outputs": [
    {
     "data": {
      "text/plain": [
       "64.7616924605991"
      ]
     },
     "execution_count": 87,
     "metadata": {},
     "output_type": "execute_result"
    }
   ],
   "source": [
    "customer.Monthly_Charges.mean()         # using statistical measure 'mean'"
   ]
  },
  {
   "cell_type": "code",
   "execution_count": null,
   "id": "dc5524d7",
   "metadata": {},
   "outputs": [],
   "source": []
  },
  {
   "cell_type": "code",
   "execution_count": null,
   "id": "38b946c1",
   "metadata": {},
   "outputs": [],
   "source": []
  },
  {
   "cell_type": "markdown",
   "id": "d9f7c61a",
   "metadata": {},
   "source": [
    "### Q3  What is the percentage of females and senior citizens in this data set? Please create appropriate plots and explain the plots."
   ]
  },
  {
   "cell_type": "markdown",
   "id": "a3d727b6",
   "metadata": {},
   "source": [
    "#### (a) Gender with percentage"
   ]
  },
  {
   "cell_type": "code",
   "execution_count": 88,
   "id": "d77ffc9e",
   "metadata": {},
   "outputs": [
    {
     "data": {
      "text/plain": [
       "Payment_Method             Gender\n",
       "Bank transfer (automatic)  Female     788\n",
       "                           Male       756\n",
       "Credit card (automatic)    Female     752\n",
       "                           Male       770\n",
       "Electronic check           Female    1170\n",
       "                           Male      1195\n",
       "Mailed check               Female     778\n",
       "                           Male       834\n",
       "Name: Gender, dtype: category\n",
       "Categories (8, int64): [752, 756, 770, 778, 788, 834, 1170, 1195]"
      ]
     },
     "execution_count": 88,
     "metadata": {},
     "output_type": "execute_result"
    }
   ],
   "source": [
    "# here i did count no. of males and females with payment_method.\n",
    "\n",
    "customer_count = customer.Gender.groupby([customer['Payment_Method'],customer['Gender']]).count().astype('category')\n",
    "customer_count"
   ]
  },
  {
   "cell_type": "code",
   "execution_count": 89,
   "id": "f4f4ace1",
   "metadata": {},
   "outputs": [
    {
     "data": {
      "text/html": [
       "<div>\n",
       "<style scoped>\n",
       "    .dataframe tbody tr th:only-of-type {\n",
       "        vertical-align: middle;\n",
       "    }\n",
       "\n",
       "    .dataframe tbody tr th {\n",
       "        vertical-align: top;\n",
       "    }\n",
       "\n",
       "    .dataframe thead th {\n",
       "        text-align: right;\n",
       "    }\n",
       "</style>\n",
       "<table border=\"1\" class=\"dataframe\">\n",
       "  <thead>\n",
       "    <tr style=\"text-align: right;\">\n",
       "      <th></th>\n",
       "      <th>Payment_Method</th>\n",
       "      <th>Gender</th>\n",
       "      <th>perc</th>\n",
       "    </tr>\n",
       "  </thead>\n",
       "  <tbody>\n",
       "    <tr>\n",
       "      <th>0</th>\n",
       "      <td>Bank transfer (automatic)</td>\n",
       "      <td>Female</td>\n",
       "      <td>0.510363</td>\n",
       "    </tr>\n",
       "    <tr>\n",
       "      <th>1</th>\n",
       "      <td>Bank transfer (automatic)</td>\n",
       "      <td>Male</td>\n",
       "      <td>0.489637</td>\n",
       "    </tr>\n",
       "    <tr>\n",
       "      <th>2</th>\n",
       "      <td>Credit card (automatic)</td>\n",
       "      <td>Male</td>\n",
       "      <td>0.505913</td>\n",
       "    </tr>\n",
       "    <tr>\n",
       "      <th>3</th>\n",
       "      <td>Credit card (automatic)</td>\n",
       "      <td>Female</td>\n",
       "      <td>0.494087</td>\n",
       "    </tr>\n",
       "    <tr>\n",
       "      <th>4</th>\n",
       "      <td>Electronic check</td>\n",
       "      <td>Male</td>\n",
       "      <td>0.505285</td>\n",
       "    </tr>\n",
       "    <tr>\n",
       "      <th>5</th>\n",
       "      <td>Electronic check</td>\n",
       "      <td>Female</td>\n",
       "      <td>0.494715</td>\n",
       "    </tr>\n",
       "    <tr>\n",
       "      <th>6</th>\n",
       "      <td>Mailed check</td>\n",
       "      <td>Male</td>\n",
       "      <td>0.517370</td>\n",
       "    </tr>\n",
       "    <tr>\n",
       "      <th>7</th>\n",
       "      <td>Mailed check</td>\n",
       "      <td>Female</td>\n",
       "      <td>0.482630</td>\n",
       "    </tr>\n",
       "  </tbody>\n",
       "</table>\n",
       "</div>"
      ],
      "text/plain": [
       "              Payment_Method  Gender      perc\n",
       "0  Bank transfer (automatic)  Female  0.510363\n",
       "1  Bank transfer (automatic)    Male  0.489637\n",
       "2    Credit card (automatic)    Male  0.505913\n",
       "3    Credit card (automatic)  Female  0.494087\n",
       "4           Electronic check    Male  0.505285\n",
       "5           Electronic check  Female  0.494715\n",
       "6               Mailed check    Male  0.517370\n",
       "7               Mailed check  Female  0.482630"
      ]
     },
     "execution_count": 89,
     "metadata": {},
     "output_type": "execute_result"
    }
   ],
   "source": [
    "# here, i did find percentage of gender with payment_method\n",
    "\n",
    "customer_percentage = (customer.groupby('Payment_Method')['Gender'].value_counts(normalize=True).reset_index(name='perc'))\n",
    "customer_percentage"
   ]
  },
  {
   "cell_type": "code",
   "execution_count": 90,
   "id": "ebe3e836",
   "metadata": {},
   "outputs": [
    {
     "data": {
      "text/html": [
       "<div>\n",
       "<style scoped>\n",
       "    .dataframe tbody tr th:only-of-type {\n",
       "        vertical-align: middle;\n",
       "    }\n",
       "\n",
       "    .dataframe tbody tr th {\n",
       "        vertical-align: top;\n",
       "    }\n",
       "\n",
       "    .dataframe thead th {\n",
       "        text-align: right;\n",
       "    }\n",
       "</style>\n",
       "<table border=\"1\" class=\"dataframe\">\n",
       "  <thead>\n",
       "    <tr style=\"text-align: right;\">\n",
       "      <th></th>\n",
       "      <th>perc</th>\n",
       "    </tr>\n",
       "  </thead>\n",
       "  <tbody>\n",
       "    <tr>\n",
       "      <th>0</th>\n",
       "      <td>0.510363</td>\n",
       "    </tr>\n",
       "    <tr>\n",
       "      <th>1</th>\n",
       "      <td>0.489637</td>\n",
       "    </tr>\n",
       "    <tr>\n",
       "      <th>2</th>\n",
       "      <td>0.505913</td>\n",
       "    </tr>\n",
       "    <tr>\n",
       "      <th>3</th>\n",
       "      <td>0.494087</td>\n",
       "    </tr>\n",
       "    <tr>\n",
       "      <th>4</th>\n",
       "      <td>0.505285</td>\n",
       "    </tr>\n",
       "    <tr>\n",
       "      <th>5</th>\n",
       "      <td>0.494715</td>\n",
       "    </tr>\n",
       "    <tr>\n",
       "      <th>6</th>\n",
       "      <td>0.517370</td>\n",
       "    </tr>\n",
       "    <tr>\n",
       "      <th>7</th>\n",
       "      <td>0.482630</td>\n",
       "    </tr>\n",
       "  </tbody>\n",
       "</table>\n",
       "</div>"
      ],
      "text/plain": [
       "       perc\n",
       "0  0.510363\n",
       "1  0.489637\n",
       "2  0.505913\n",
       "3  0.494087\n",
       "4  0.505285\n",
       "5  0.494715\n",
       "6  0.517370\n",
       "7  0.482630"
      ]
     },
     "execution_count": 90,
     "metadata": {},
     "output_type": "execute_result"
    }
   ],
   "source": [
    "# here i have taken alone percentage column for further analysis.\n",
    "\n",
    "customerr_percentage = customer_percentage[['perc']]\n",
    "customerr_percentage"
   ]
  },
  {
   "cell_type": "code",
   "execution_count": 91,
   "id": "8d71d31b",
   "metadata": {},
   "outputs": [
    {
     "data": {
      "text/plain": [
       "Text(0.5, 1.0, 'Checking percentage of males and females using of payment_method')"
      ]
     },
     "execution_count": 91,
     "metadata": {},
     "output_type": "execute_result"
    },
    {
     "data": {
      "image/png": "[encoded data removed]",
      "text/plain": [
       "<Figure size 720x360 with 1 Axes>"
      ]
     },
     "metadata": {
      "needs_background": "light"
     },
     "output_type": "display_data"
    }
   ],
   "source": [
    "# here i have done analysis of gender with payment method in percentage form.\n",
    "\n",
    "x,y,hue = \"Gender\",\"customerr_percentage\",\"Payment_Method\"\n",
    "\n",
    "plt.figure(figsize=(10,5))\n",
    "\n",
    "(customer[x].groupby(customer[hue]).value_counts(normalize=True).rename(y).reset_index().pipe((sns.barplot,\"data\"),x=x,y=y,hue=hue))\n",
    "plt.title('Checking percentage of males and females using of payment_method')"
   ]
  },
  {
   "cell_type": "markdown",
   "id": "2cde1c2b",
   "metadata": {},
   "source": [
    "In this analysis i have seen males are interested in \"Mailed checks\",\n",
    "\n",
    "and females are more interested in doing \"Bank transfer(automatic)\""
   ]
  },
  {
   "cell_type": "code",
   "execution_count": null,
   "id": "1b46a6c3",
   "metadata": {},
   "outputs": [],
   "source": []
  },
  {
   "cell_type": "markdown",
   "id": "028eefb4",
   "metadata": {},
   "source": [
    "#### (b) Senior citizen with percentage"
   ]
  },
  {
   "cell_type": "code",
   "execution_count": 92,
   "id": "55471464",
   "metadata": {},
   "outputs": [
    {
     "data": {
      "text/plain": [
       "Payment_Method             Senior_Citizen\n",
       "Bank transfer (automatic)  No                1311\n",
       "                           Yes                233\n",
       "Credit card (automatic)    No                1301\n",
       "                           Yes                221\n",
       "Electronic check           No                1771\n",
       "                           Yes                594\n",
       "Mailed check               No                1518\n",
       "                           Yes                 94\n",
       "Name: Senior_Citizen, dtype: category\n",
       "Categories (8, int64): [94, 221, 233, 594, 1301, 1311, 1518, 1771]"
      ]
     },
     "execution_count": 92,
     "metadata": {},
     "output_type": "execute_result"
    }
   ],
   "source": [
    "# here i did count no. of senior citizen with payment_method.\n",
    "\n",
    "customer_count_seniorcitizen = customer.Senior_Citizen.groupby([customer['Payment_Method'],customer['Senior_Citizen']]).count().astype('category')\n",
    "customer_count_seniorcitizen"
   ]
  },
  {
   "cell_type": "code",
   "execution_count": 93,
   "id": "c9800485",
   "metadata": {},
   "outputs": [
    {
     "data": {
      "text/html": [
       "<div>\n",
       "<style scoped>\n",
       "    .dataframe tbody tr th:only-of-type {\n",
       "        vertical-align: middle;\n",
       "    }\n",
       "\n",
       "    .dataframe tbody tr th {\n",
       "        vertical-align: top;\n",
       "    }\n",
       "\n",
       "    .dataframe thead th {\n",
       "        text-align: right;\n",
       "    }\n",
       "</style>\n",
       "<table border=\"1\" class=\"dataframe\">\n",
       "  <thead>\n",
       "    <tr style=\"text-align: right;\">\n",
       "      <th></th>\n",
       "      <th>Payment_Method</th>\n",
       "      <th>Senior_Citizen</th>\n",
       "      <th>perc</th>\n",
       "    </tr>\n",
       "  </thead>\n",
       "  <tbody>\n",
       "    <tr>\n",
       "      <th>0</th>\n",
       "      <td>Bank transfer (automatic)</td>\n",
       "      <td>No</td>\n",
       "      <td>0.849093</td>\n",
       "    </tr>\n",
       "    <tr>\n",
       "      <th>1</th>\n",
       "      <td>Bank transfer (automatic)</td>\n",
       "      <td>Yes</td>\n",
       "      <td>0.150907</td>\n",
       "    </tr>\n",
       "    <tr>\n",
       "      <th>2</th>\n",
       "      <td>Credit card (automatic)</td>\n",
       "      <td>No</td>\n",
       "      <td>0.854796</td>\n",
       "    </tr>\n",
       "    <tr>\n",
       "      <th>3</th>\n",
       "      <td>Credit card (automatic)</td>\n",
       "      <td>Yes</td>\n",
       "      <td>0.145204</td>\n",
       "    </tr>\n",
       "    <tr>\n",
       "      <th>4</th>\n",
       "      <td>Electronic check</td>\n",
       "      <td>No</td>\n",
       "      <td>0.748837</td>\n",
       "    </tr>\n",
       "    <tr>\n",
       "      <th>5</th>\n",
       "      <td>Electronic check</td>\n",
       "      <td>Yes</td>\n",
       "      <td>0.251163</td>\n",
       "    </tr>\n",
       "    <tr>\n",
       "      <th>6</th>\n",
       "      <td>Mailed check</td>\n",
       "      <td>No</td>\n",
       "      <td>0.941687</td>\n",
       "    </tr>\n",
       "    <tr>\n",
       "      <th>7</th>\n",
       "      <td>Mailed check</td>\n",
       "      <td>Yes</td>\n",
       "      <td>0.058313</td>\n",
       "    </tr>\n",
       "  </tbody>\n",
       "</table>\n",
       "</div>"
      ],
      "text/plain": [
       "              Payment_Method Senior_Citizen      perc\n",
       "0  Bank transfer (automatic)             No  0.849093\n",
       "1  Bank transfer (automatic)            Yes  0.150907\n",
       "2    Credit card (automatic)             No  0.854796\n",
       "3    Credit card (automatic)            Yes  0.145204\n",
       "4           Electronic check             No  0.748837\n",
       "5           Electronic check            Yes  0.251163\n",
       "6               Mailed check             No  0.941687\n",
       "7               Mailed check            Yes  0.058313"
      ]
     },
     "execution_count": 93,
     "metadata": {},
     "output_type": "execute_result"
    }
   ],
   "source": [
    "# here, i did find percentage of senior citizen with payment_method\n",
    "\n",
    "customer_percentage_seniorcitizen = (customer.groupby('Payment_Method')['Senior_Citizen'].value_counts(normalize=True).reset_index(name='perc'))\n",
    "customer_percentage_seniorcitizen"
   ]
  },
  {
   "cell_type": "code",
   "execution_count": 94,
   "id": "0cab35fa",
   "metadata": {},
   "outputs": [
    {
     "data": {
      "text/html": [
       "<div>\n",
       "<style scoped>\n",
       "    .dataframe tbody tr th:only-of-type {\n",
       "        vertical-align: middle;\n",
       "    }\n",
       "\n",
       "    .dataframe tbody tr th {\n",
       "        vertical-align: top;\n",
       "    }\n",
       "\n",
       "    .dataframe thead th {\n",
       "        text-align: right;\n",
       "    }\n",
       "</style>\n",
       "<table border=\"1\" class=\"dataframe\">\n",
       "  <thead>\n",
       "    <tr style=\"text-align: right;\">\n",
       "      <th></th>\n",
       "      <th>perc</th>\n",
       "    </tr>\n",
       "  </thead>\n",
       "  <tbody>\n",
       "    <tr>\n",
       "      <th>0</th>\n",
       "      <td>0.510363</td>\n",
       "    </tr>\n",
       "    <tr>\n",
       "      <th>1</th>\n",
       "      <td>0.489637</td>\n",
       "    </tr>\n",
       "    <tr>\n",
       "      <th>2</th>\n",
       "      <td>0.505913</td>\n",
       "    </tr>\n",
       "    <tr>\n",
       "      <th>3</th>\n",
       "      <td>0.494087</td>\n",
       "    </tr>\n",
       "    <tr>\n",
       "      <th>4</th>\n",
       "      <td>0.505285</td>\n",
       "    </tr>\n",
       "    <tr>\n",
       "      <th>5</th>\n",
       "      <td>0.494715</td>\n",
       "    </tr>\n",
       "    <tr>\n",
       "      <th>6</th>\n",
       "      <td>0.517370</td>\n",
       "    </tr>\n",
       "    <tr>\n",
       "      <th>7</th>\n",
       "      <td>0.482630</td>\n",
       "    </tr>\n",
       "  </tbody>\n",
       "</table>\n",
       "</div>"
      ],
      "text/plain": [
       "       perc\n",
       "0  0.510363\n",
       "1  0.489637\n",
       "2  0.505913\n",
       "3  0.494087\n",
       "4  0.505285\n",
       "5  0.494715\n",
       "6  0.517370\n",
       "7  0.482630"
      ]
     },
     "execution_count": 94,
     "metadata": {},
     "output_type": "execute_result"
    }
   ],
   "source": [
    "# here i have taken alone percentage column for further analysis.\n",
    "\n",
    "customerr_percentage_seniorcitizen = customer_percentage[['perc']]\n",
    "customerr_percentage_seniorcitizen"
   ]
  },
  {
   "cell_type": "code",
   "execution_count": 95,
   "id": "fae0ecba",
   "metadata": {},
   "outputs": [
    {
     "data": {
      "text/plain": [
       "Text(0.5, 1.0, 'Checking percentage of Senior_Citizen using of payment_method')"
      ]
     },
     "execution_count": 95,
     "metadata": {},
     "output_type": "execute_result"
    },
    {
     "data": {
      "image/png": "[encoded data removed]",
      "text/plain": [
       "<Figure size 720x360 with 1 Axes>"
      ]
     },
     "metadata": {
      "needs_background": "light"
     },
     "output_type": "display_data"
    }
   ],
   "source": [
    "# here i have done analysis of senior citizen with payment method in percentage form.\n",
    "\n",
    "x,y,hue = \"Senior_Citizen\",\"customerr_percentage_seniorcitizen\",\"Payment_Method\"\n",
    "\n",
    "plt.figure(figsize=(10,5))\n",
    "\n",
    "(customer[x].groupby(customer[hue]).value_counts(normalize=True).rename(y).reset_index().pipe((sns.barplot,\"data\"),x=x,y=y,hue=hue))\n",
    "plt.title('Checking percentage of Senior_Citizen using of payment_method')"
   ]
  },
  {
   "cell_type": "markdown",
   "id": "12ee28b2",
   "metadata": {},
   "source": [
    "In this analysis, i have seen senior citizen are less interested in Payment mehod or online transaction. \n",
    "\n",
    "If I see \"yes\" or who is using payment method then they are interested in \"Electronics checks\"."
   ]
  },
  {
   "cell_type": "code",
   "execution_count": null,
   "id": "eaf9c9b2",
   "metadata": {},
   "outputs": [],
   "source": []
  },
  {
   "cell_type": "code",
   "execution_count": null,
   "id": "466f25ad",
   "metadata": {},
   "outputs": [],
   "source": []
  },
  {
   "cell_type": "markdown",
   "id": "54ef5f9d",
   "metadata": {},
   "source": [
    "### Q4  Please create an appropriate plot to examine the distribution of the tenure month column and explain the distribution. Based on distribution, perform appropriate statistical measures. Please also explain if the variable is symmetric or skewed. Please calculate it. Explain everything as asked."
   ]
  },
  {
   "cell_type": "markdown",
   "id": "c72e3096",
   "metadata": {},
   "source": [
    "#### (a) Checking tenure month with churn_score"
   ]
  },
  {
   "cell_type": "code",
   "execution_count": 96,
   "id": "81cf325d",
   "metadata": {},
   "outputs": [
    {
     "data": {
      "text/plain": [
       "Text(0.5, 1.0, 'Checking months tenure with churn scores')"
      ]
     },
     "execution_count": 96,
     "metadata": {},
     "output_type": "execute_result"
    },
    {
     "data": {
      "image/png": "[encoded data removed]",
      "text/plain": [
       "<Figure size 720x360 with 1 Axes>"
      ]
     },
     "metadata": {
      "needs_background": "light"
     },
     "output_type": "display_data"
    }
   ],
   "source": [
    "# here i am comparing Churn_scores with tenure_months.\n",
    "# we know that churn scores are customer behaviour, desires and satisfaction.\n",
    "\n",
    "plt.figure(figsize=(10,5))\n",
    "sns.lineplot(x=\"Tenure_Months\",y=\"Churn_Score\",data=customer)\n",
    "\n",
    "plt.title('Checking months tenure with churn scores')"
   ]
  },
  {
   "cell_type": "markdown",
   "id": "29a929e8",
   "metadata": {},
   "source": [
    "In this analysis, we can see that as tenure months are increasing then \"Churn_score\" is decreasing of the customer"
   ]
  },
  {
   "cell_type": "markdown",
   "id": "e15b246d",
   "metadata": {},
   "source": [
    "#### (b) Statistical measure"
   ]
  },
  {
   "cell_type": "code",
   "execution_count": 97,
   "id": "31813134",
   "metadata": {},
   "outputs": [],
   "source": [
    "# taking two column to find skewness and statistical measures also.\n",
    "customerr = customer[['Tenure_Months','Churn_Score']]"
   ]
  },
  {
   "cell_type": "code",
   "execution_count": 98,
   "id": "3c3675d6",
   "metadata": {},
   "outputs": [
    {
     "data": {
      "text/plain": [
       "Tenure_Months    32.371149\n",
       "Churn_Score      58.699418\n",
       "dtype: float64"
      ]
     },
     "execution_count": 98,
     "metadata": {},
     "output_type": "execute_result"
    }
   ],
   "source": [
    "customerr.mean()       # checking mean"
   ]
  },
  {
   "cell_type": "code",
   "execution_count": 99,
   "id": "ad982226",
   "metadata": {},
   "outputs": [
    {
     "data": {
      "text/html": [
       "<div>\n",
       "<style scoped>\n",
       "    .dataframe tbody tr th:only-of-type {\n",
       "        vertical-align: middle;\n",
       "    }\n",
       "\n",
       "    .dataframe tbody tr th {\n",
       "        vertical-align: top;\n",
       "    }\n",
       "\n",
       "    .dataframe thead th {\n",
       "        text-align: right;\n",
       "    }\n",
       "</style>\n",
       "<table border=\"1\" class=\"dataframe\">\n",
       "  <thead>\n",
       "    <tr style=\"text-align: right;\">\n",
       "      <th></th>\n",
       "      <th>Tenure_Months</th>\n",
       "      <th>Churn_Score</th>\n",
       "    </tr>\n",
       "  </thead>\n",
       "  <tbody>\n",
       "    <tr>\n",
       "      <th>0</th>\n",
       "      <td>1</td>\n",
       "      <td>80</td>\n",
       "    </tr>\n",
       "  </tbody>\n",
       "</table>\n",
       "</div>"
      ],
      "text/plain": [
       "   Tenure_Months  Churn_Score\n",
       "0              1           80"
      ]
     },
     "execution_count": 99,
     "metadata": {},
     "output_type": "execute_result"
    }
   ],
   "source": [
    "customerr.mode()      # checking mode"
   ]
  },
  {
   "cell_type": "code",
   "execution_count": 100,
   "id": "fe71eefa",
   "metadata": {},
   "outputs": [
    {
     "data": {
      "text/plain": [
       "Tenure_Months    603.168108\n",
       "Churn_Score      463.331251\n",
       "dtype: float64"
      ]
     },
     "execution_count": 100,
     "metadata": {},
     "output_type": "execute_result"
    }
   ],
   "source": [
    "customerr.var()        # checking variance"
   ]
  },
  {
   "cell_type": "code",
   "execution_count": 101,
   "id": "64907036",
   "metadata": {},
   "outputs": [
    {
     "data": {
      "text/plain": [
       "Tenure_Months    24.559481\n",
       "Churn_Score      21.525131\n",
       "dtype: float64"
      ]
     },
     "execution_count": 101,
     "metadata": {},
     "output_type": "execute_result"
    }
   ],
   "source": [
    "customerr.std()          # checking standard deviation"
   ]
  },
  {
   "cell_type": "markdown",
   "id": "55d0b986",
   "metadata": {},
   "source": [
    "#### (c) Skewness"
   ]
  },
  {
   "cell_type": "code",
   "execution_count": 102,
   "id": "a2dc9ef1",
   "metadata": {},
   "outputs": [
    {
     "data": {
      "text/plain": [
       "Tenure_Months    0.23954\n",
       "Churn_Score     -0.08984\n",
       "dtype: float64"
      ]
     },
     "execution_count": 102,
     "metadata": {},
     "output_type": "execute_result"
    }
   ],
   "source": [
    "# here we can see that churn_score is negative but tenure_month is positive .\n",
    "customerr.skew()"
   ]
  },
  {
   "cell_type": "code",
   "execution_count": 103,
   "id": "0c8cd166",
   "metadata": {},
   "outputs": [
    {
     "data": {
      "text/plain": [
       "Text(0.5, 1.0, 'Churn_score skewness with mean and median ')"
      ]
     },
     "execution_count": 103,
     "metadata": {},
     "output_type": "execute_result"
    },
    {
     "data": {
      "image/png": "[encoded data removed]",
      "text/plain": [
       "<Figure size 432x288 with 1 Axes>"
      ]
     },
     "metadata": {
      "needs_background": "light"
     },
     "output_type": "display_data"
    }
   ],
   "source": [
    "# here i am checking mean and medain and skewness of tenure_months\n",
    "# it is going toward right side.\n",
    "\n",
    "sns.histplot(data=customer['Tenure_Months'],kde=True)\n",
    "plt.axvline(x=customer.Churn_Score.mean(),c='red',alpha=0.5,label='mean')\n",
    "plt.axvline(x=customer.Churn_Score.median(),c='blue',alpha=0.5,ls='--',label='median')\n",
    "plt.title('Churn_score skewness with mean and median ')"
   ]
  },
  {
   "cell_type": "markdown",
   "id": "3294600f",
   "metadata": {},
   "source": [
    "Yes, the Tenure_months is skewed to right. and the behaviour of the line is first going up then goes down and after that slightly increase.\n",
    "\n",
    "mean and median are bit close to each other"
   ]
  },
  {
   "cell_type": "code",
   "execution_count": null,
   "id": "ffe9bb42",
   "metadata": {},
   "outputs": [],
   "source": []
  },
  {
   "cell_type": "code",
   "execution_count": null,
   "id": "49a54b26",
   "metadata": {},
   "outputs": [],
   "source": []
  },
  {
   "cell_type": "markdown",
   "id": "6aba6401",
   "metadata": {},
   "source": [
    "### Q5  Please convert all binary columns into 0 and 1 using appropriate programming constructs, not one by one."
   ]
  },
  {
   "cell_type": "code",
   "execution_count": 104,
   "id": "9d934715",
   "metadata": {},
   "outputs": [
    {
     "name": "stdout",
     "output_type": "stream",
     "text": [
      "      Gender  Count        Country       State          City Zip_Code  \\\n",
      "0          0      1  United States  California   Los Angeles    90003   \n",
      "1          1      1  United States  California   Los Angeles    90005   \n",
      "2          1      1  United States  California   Los Angeles    90006   \n",
      "3          1      1  United States  California   Los Angeles    90010   \n",
      "4          0      1  United States  California   Los Angeles    90015   \n",
      "...      ...    ...            ...         ...           ...      ...   \n",
      "7038       1      1  United States  California       Landers    92285   \n",
      "7039       0      1  United States  California      Adelanto    92301   \n",
      "7040       1      1  United States  California         Amboy    92304   \n",
      "7041       1      1  United States  California  Angelus Oaks    92305   \n",
      "7042       0      1  United States  California  Apple Valley    92308   \n",
      "\n",
      "                    Lat_Long   Latitude   Longitude Senior_Citizen  ...  \\\n",
      "0     33.964131, -118.272783  33.964131 -118.272783             No  ...   \n",
      "1      34.059281, -118.30742  34.059281 -118.307420             No  ...   \n",
      "2     34.048013, -118.293953  34.048013 -118.293953             No  ...   \n",
      "3     34.062125, -118.315709  34.062125 -118.315709             No  ...   \n",
      "4     34.039224, -118.266293  34.039224 -118.266293             No  ...   \n",
      "...                      ...        ...         ...            ...  ...   \n",
      "7038  34.341737, -116.539416  34.341737 -116.539416             No  ...   \n",
      "7039  34.667815, -117.536183  34.667815 -117.536183             No  ...   \n",
      "7040  34.559882, -115.637164  34.559882 -115.637164             No  ...   \n",
      "7041     34.1678, -116.86433  34.167800 -116.864330             No  ...   \n",
      "7042  34.424926, -117.184503  34.424926 -117.184503             No  ...   \n",
      "\n",
      "            Contract Paperless_Billing             Payment_Method  \\\n",
      "0     Month-to-month               Yes               Mailed check   \n",
      "1     Month-to-month               Yes           Electronic check   \n",
      "2     Month-to-month               Yes           Electronic check   \n",
      "3     Month-to-month               Yes           Electronic check   \n",
      "4     Month-to-month               Yes  Bank transfer (automatic)   \n",
      "...              ...               ...                        ...   \n",
      "7038        Two year               Yes  Bank transfer (automatic)   \n",
      "7039        One year               Yes               Mailed check   \n",
      "7040        One year               Yes    Credit card (automatic)   \n",
      "7041  Month-to-month               Yes           Electronic check   \n",
      "7042        Two year               Yes  Bank transfer (automatic)   \n",
      "\n",
      "     Monthly_Charges Total_Charges Churn_Label Churn_Value Churn_Score  CLTV  \\\n",
      "0              53.85        108.15         Yes           1          86  3239   \n",
      "1              70.70        151.65         Yes           1          67  2701   \n",
      "2              99.65        820.50         Yes           1          86  5372   \n",
      "3             104.80       3046.05         Yes           1          84  5003   \n",
      "4             103.70       5036.30         Yes           1          89  5340   \n",
      "...              ...           ...         ...         ...         ...   ...   \n",
      "7038           21.15       1419.40          No           0          45  5306   \n",
      "7039           84.80       1990.50          No           0          59  2140   \n",
      "7040          103.20       7362.90          No           0          71  5560   \n",
      "7041           29.60        346.45          No           0          59  2793   \n",
      "7042          105.65       6844.50          No           0          38  5097   \n",
      "\n",
      "                       Churn_Reason  \n",
      "0      Competitor made better offer  \n",
      "1                             Moved  \n",
      "2                             Moved  \n",
      "3                             Moved  \n",
      "4     Competitor had better devices  \n",
      "...                             ...  \n",
      "7038                            NaN  \n",
      "7039                            NaN  \n",
      "7040                            NaN  \n",
      "7041                            NaN  \n",
      "7042                            NaN  \n",
      "\n",
      "[7043 rows x 32 columns]\n"
     ]
    }
   ],
   "source": [
    "# here converting gender column into 0 and 1.\n",
    "\n",
    "customer_dummy = pd.get_dummies(customer[\"Gender\"])\n",
    "customer_two = pd.concat((customer_dummy,customer),axis=1)\n",
    "customer_two = customer_two.drop([\"Gender\"],axis=1)\n",
    "customer_two = customer_two.drop([\"Male\"],axis=1)\n",
    "customer_dummmy = customer_two.rename(columns={\"Female\": \"Gender\"})\n",
    "\n",
    "print(customer_dummmy)"
   ]
  },
  {
   "cell_type": "code",
   "execution_count": 105,
   "id": "1f87e2b8",
   "metadata": {},
   "outputs": [],
   "source": [
    "# converting all categorical columns into binary form.\n",
    "\n",
    "customer_dummmy['Senior_Citizen'] = customer_dummmy['Senior_Citizen'].map({'Yes':1, 'No':0})\n",
    "customer_dummmy['Partner'] = customer_dummmy['Partner'].map({'Yes':1, 'No':0})\n",
    "customer_dummmy['Dependents'] = customer_dummmy['Dependents'].map({'Yes':1, 'No':0})\n",
    "customer_dummmy['Phone_Service'] = customer_dummmy['Phone_Service'].map({'Yes':1, 'No':0})\n",
    "customer_dummmy['Multiple_Lines'] = customer_dummmy['Multiple_Lines'].map({'Yes':1, 'No':0})\n",
    "customer_dummmy['Online_Security'] = customer_dummmy['Online_Security'].map({'Yes':1, 'No':0})\n",
    "customer_dummmy['Online_Backup'] = customer_dummmy['Online_Backup'].map({'Yes':1, 'No':0})\n",
    "customer_dummmy['Device_Protection'] = customer_dummmy['Device_Protection'].map({'Yes':1, 'No':0})\n",
    "customer_dummmy['Tech_Support'] = customer_dummmy['Tech_Support'].map({'Yes':1, 'No':0})\n",
    "customer_dummmy['Streaming_TV'] = customer_dummmy['Streaming_TV'].map({'Yes':1, 'No':0})\n",
    "customer_dummmy['Streaming_Movies'] = customer_dummmy['Streaming_Movies'].map({'Yes':1, 'No':0})\n",
    "customer_dummmy['Paperless_Billing'] = customer_dummmy['Paperless_Billing'].map({'Yes':1, 'No':0})\n",
    "customer_dummmy['Churn_Label'] = customer_dummmy['Churn_Label'].map({'Yes':1, 'No':0})"
   ]
  },
  {
   "cell_type": "code",
   "execution_count": 106,
   "id": "1c49dda6",
   "metadata": {},
   "outputs": [
    {
     "data": {
      "text/html": [
       "<div>\n",
       "<style scoped>\n",
       "    .dataframe tbody tr th:only-of-type {\n",
       "        vertical-align: middle;\n",
       "    }\n",
       "\n",
       "    .dataframe tbody tr th {\n",
       "        vertical-align: top;\n",
       "    }\n",
       "\n",
       "    .dataframe thead th {\n",
       "        text-align: right;\n",
       "    }\n",
       "</style>\n",
       "<table border=\"1\" class=\"dataframe\">\n",
       "  <thead>\n",
       "    <tr style=\"text-align: right;\">\n",
       "      <th></th>\n",
       "      <th>Gender</th>\n",
       "      <th>Count</th>\n",
       "      <th>Country</th>\n",
       "      <th>State</th>\n",
       "      <th>City</th>\n",
       "      <th>Zip_Code</th>\n",
       "      <th>Lat_Long</th>\n",
       "      <th>Latitude</th>\n",
       "      <th>Longitude</th>\n",
       "      <th>Senior_Citizen</th>\n",
       "      <th>...</th>\n",
       "      <th>Contract</th>\n",
       "      <th>Paperless_Billing</th>\n",
       "      <th>Payment_Method</th>\n",
       "      <th>Monthly_Charges</th>\n",
       "      <th>Total_Charges</th>\n",
       "      <th>Churn_Label</th>\n",
       "      <th>Churn_Value</th>\n",
       "      <th>Churn_Score</th>\n",
       "      <th>CLTV</th>\n",
       "      <th>Churn_Reason</th>\n",
       "    </tr>\n",
       "  </thead>\n",
       "  <tbody>\n",
       "    <tr>\n",
       "      <th>0</th>\n",
       "      <td>0</td>\n",
       "      <td>1</td>\n",
       "      <td>United States</td>\n",
       "      <td>California</td>\n",
       "      <td>Los Angeles</td>\n",
       "      <td>90003</td>\n",
       "      <td>33.964131, -118.272783</td>\n",
       "      <td>33.964131</td>\n",
       "      <td>-118.272783</td>\n",
       "      <td>0</td>\n",
       "      <td>...</td>\n",
       "      <td>Month-to-month</td>\n",
       "      <td>1</td>\n",
       "      <td>Mailed check</td>\n",
       "      <td>53.85</td>\n",
       "      <td>108.15</td>\n",
       "      <td>1</td>\n",
       "      <td>1</td>\n",
       "      <td>86</td>\n",
       "      <td>3239</td>\n",
       "      <td>Competitor made better offer</td>\n",
       "    </tr>\n",
       "    <tr>\n",
       "      <th>1</th>\n",
       "      <td>1</td>\n",
       "      <td>1</td>\n",
       "      <td>United States</td>\n",
       "      <td>California</td>\n",
       "      <td>Los Angeles</td>\n",
       "      <td>90005</td>\n",
       "      <td>34.059281, -118.30742</td>\n",
       "      <td>34.059281</td>\n",
       "      <td>-118.307420</td>\n",
       "      <td>0</td>\n",
       "      <td>...</td>\n",
       "      <td>Month-to-month</td>\n",
       "      <td>1</td>\n",
       "      <td>Electronic check</td>\n",
       "      <td>70.70</td>\n",
       "      <td>151.65</td>\n",
       "      <td>1</td>\n",
       "      <td>1</td>\n",
       "      <td>67</td>\n",
       "      <td>2701</td>\n",
       "      <td>Moved</td>\n",
       "    </tr>\n",
       "    <tr>\n",
       "      <th>2</th>\n",
       "      <td>1</td>\n",
       "      <td>1</td>\n",
       "      <td>United States</td>\n",
       "      <td>California</td>\n",
       "      <td>Los Angeles</td>\n",
       "      <td>90006</td>\n",
       "      <td>34.048013, -118.293953</td>\n",
       "      <td>34.048013</td>\n",
       "      <td>-118.293953</td>\n",
       "      <td>0</td>\n",
       "      <td>...</td>\n",
       "      <td>Month-to-month</td>\n",
       "      <td>1</td>\n",
       "      <td>Electronic check</td>\n",
       "      <td>99.65</td>\n",
       "      <td>820.50</td>\n",
       "      <td>1</td>\n",
       "      <td>1</td>\n",
       "      <td>86</td>\n",
       "      <td>5372</td>\n",
       "      <td>Moved</td>\n",
       "    </tr>\n",
       "    <tr>\n",
       "      <th>3</th>\n",
       "      <td>1</td>\n",
       "      <td>1</td>\n",
       "      <td>United States</td>\n",
       "      <td>California</td>\n",
       "      <td>Los Angeles</td>\n",
       "      <td>90010</td>\n",
       "      <td>34.062125, -118.315709</td>\n",
       "      <td>34.062125</td>\n",
       "      <td>-118.315709</td>\n",
       "      <td>0</td>\n",
       "      <td>...</td>\n",
       "      <td>Month-to-month</td>\n",
       "      <td>1</td>\n",
       "      <td>Electronic check</td>\n",
       "      <td>104.80</td>\n",
       "      <td>3046.05</td>\n",
       "      <td>1</td>\n",
       "      <td>1</td>\n",
       "      <td>84</td>\n",
       "      <td>5003</td>\n",
       "      <td>Moved</td>\n",
       "    </tr>\n",
       "    <tr>\n",
       "      <th>4</th>\n",
       "      <td>0</td>\n",
       "      <td>1</td>\n",
       "      <td>United States</td>\n",
       "      <td>California</td>\n",
       "      <td>Los Angeles</td>\n",
       "      <td>90015</td>\n",
       "      <td>34.039224, -118.266293</td>\n",
       "      <td>34.039224</td>\n",
       "      <td>-118.266293</td>\n",
       "      <td>0</td>\n",
       "      <td>...</td>\n",
       "      <td>Month-to-month</td>\n",
       "      <td>1</td>\n",
       "      <td>Bank transfer (automatic)</td>\n",
       "      <td>103.70</td>\n",
       "      <td>5036.30</td>\n",
       "      <td>1</td>\n",
       "      <td>1</td>\n",
       "      <td>89</td>\n",
       "      <td>5340</td>\n",
       "      <td>Competitor had better devices</td>\n",
       "    </tr>\n",
       "    <tr>\n",
       "      <th>...</th>\n",
       "      <td>...</td>\n",
       "      <td>...</td>\n",
       "      <td>...</td>\n",
       "      <td>...</td>\n",
       "      <td>...</td>\n",
       "      <td>...</td>\n",
       "      <td>...</td>\n",
       "      <td>...</td>\n",
       "      <td>...</td>\n",
       "      <td>...</td>\n",
       "      <td>...</td>\n",
       "      <td>...</td>\n",
       "      <td>...</td>\n",
       "      <td>...</td>\n",
       "      <td>...</td>\n",
       "      <td>...</td>\n",
       "      <td>...</td>\n",
       "      <td>...</td>\n",
       "      <td>...</td>\n",
       "      <td>...</td>\n",
       "      <td>...</td>\n",
       "    </tr>\n",
       "    <tr>\n",
       "      <th>7038</th>\n",
       "      <td>1</td>\n",
       "      <td>1</td>\n",
       "      <td>United States</td>\n",
       "      <td>California</td>\n",
       "      <td>Landers</td>\n",
       "      <td>92285</td>\n",
       "      <td>34.341737, -116.539416</td>\n",
       "      <td>34.341737</td>\n",
       "      <td>-116.539416</td>\n",
       "      <td>0</td>\n",
       "      <td>...</td>\n",
       "      <td>Two year</td>\n",
       "      <td>1</td>\n",
       "      <td>Bank transfer (automatic)</td>\n",
       "      <td>21.15</td>\n",
       "      <td>1419.40</td>\n",
       "      <td>0</td>\n",
       "      <td>0</td>\n",
       "      <td>45</td>\n",
       "      <td>5306</td>\n",
       "      <td>NaN</td>\n",
       "    </tr>\n",
       "    <tr>\n",
       "      <th>7039</th>\n",
       "      <td>0</td>\n",
       "      <td>1</td>\n",
       "      <td>United States</td>\n",
       "      <td>California</td>\n",
       "      <td>Adelanto</td>\n",
       "      <td>92301</td>\n",
       "      <td>34.667815, -117.536183</td>\n",
       "      <td>34.667815</td>\n",
       "      <td>-117.536183</td>\n",
       "      <td>0</td>\n",
       "      <td>...</td>\n",
       "      <td>One year</td>\n",
       "      <td>1</td>\n",
       "      <td>Mailed check</td>\n",
       "      <td>84.80</td>\n",
       "      <td>1990.50</td>\n",
       "      <td>0</td>\n",
       "      <td>0</td>\n",
       "      <td>59</td>\n",
       "      <td>2140</td>\n",
       "      <td>NaN</td>\n",
       "    </tr>\n",
       "    <tr>\n",
       "      <th>7040</th>\n",
       "      <td>1</td>\n",
       "      <td>1</td>\n",
       "      <td>United States</td>\n",
       "      <td>California</td>\n",
       "      <td>Amboy</td>\n",
       "      <td>92304</td>\n",
       "      <td>34.559882, -115.637164</td>\n",
       "      <td>34.559882</td>\n",
       "      <td>-115.637164</td>\n",
       "      <td>0</td>\n",
       "      <td>...</td>\n",
       "      <td>One year</td>\n",
       "      <td>1</td>\n",
       "      <td>Credit card (automatic)</td>\n",
       "      <td>103.20</td>\n",
       "      <td>7362.90</td>\n",
       "      <td>0</td>\n",
       "      <td>0</td>\n",
       "      <td>71</td>\n",
       "      <td>5560</td>\n",
       "      <td>NaN</td>\n",
       "    </tr>\n",
       "    <tr>\n",
       "      <th>7041</th>\n",
       "      <td>1</td>\n",
       "      <td>1</td>\n",
       "      <td>United States</td>\n",
       "      <td>California</td>\n",
       "      <td>Angelus Oaks</td>\n",
       "      <td>92305</td>\n",
       "      <td>34.1678, -116.86433</td>\n",
       "      <td>34.167800</td>\n",
       "      <td>-116.864330</td>\n",
       "      <td>0</td>\n",
       "      <td>...</td>\n",
       "      <td>Month-to-month</td>\n",
       "      <td>1</td>\n",
       "      <td>Electronic check</td>\n",
       "      <td>29.60</td>\n",
       "      <td>346.45</td>\n",
       "      <td>0</td>\n",
       "      <td>0</td>\n",
       "      <td>59</td>\n",
       "      <td>2793</td>\n",
       "      <td>NaN</td>\n",
       "    </tr>\n",
       "    <tr>\n",
       "      <th>7042</th>\n",
       "      <td>0</td>\n",
       "      <td>1</td>\n",
       "      <td>United States</td>\n",
       "      <td>California</td>\n",
       "      <td>Apple Valley</td>\n",
       "      <td>92308</td>\n",
       "      <td>34.424926, -117.184503</td>\n",
       "      <td>34.424926</td>\n",
       "      <td>-117.184503</td>\n",
       "      <td>0</td>\n",
       "      <td>...</td>\n",
       "      <td>Two year</td>\n",
       "      <td>1</td>\n",
       "      <td>Bank transfer (automatic)</td>\n",
       "      <td>105.65</td>\n",
       "      <td>6844.50</td>\n",
       "      <td>0</td>\n",
       "      <td>0</td>\n",
       "      <td>38</td>\n",
       "      <td>5097</td>\n",
       "      <td>NaN</td>\n",
       "    </tr>\n",
       "  </tbody>\n",
       "</table>\n",
       "<p>7043 rows × 32 columns</p>\n",
       "</div>"
      ],
      "text/plain": [
       "      Gender  Count        Country       State          City Zip_Code  \\\n",
       "0          0      1  United States  California   Los Angeles    90003   \n",
       "1          1      1  United States  California   Los Angeles    90005   \n",
       "2          1      1  United States  California   Los Angeles    90006   \n",
       "3          1      1  United States  California   Los Angeles    90010   \n",
       "4          0      1  United States  California   Los Angeles    90015   \n",
       "...      ...    ...            ...         ...           ...      ...   \n",
       "7038       1      1  United States  California       Landers    92285   \n",
       "7039       0      1  United States  California      Adelanto    92301   \n",
       "7040       1      1  United States  California         Amboy    92304   \n",
       "7041       1      1  United States  California  Angelus Oaks    92305   \n",
       "7042       0      1  United States  California  Apple Valley    92308   \n",
       "\n",
       "                    Lat_Long   Latitude   Longitude Senior_Citizen  ...  \\\n",
       "0     33.964131, -118.272783  33.964131 -118.272783              0  ...   \n",
       "1      34.059281, -118.30742  34.059281 -118.307420              0  ...   \n",
       "2     34.048013, -118.293953  34.048013 -118.293953              0  ...   \n",
       "3     34.062125, -118.315709  34.062125 -118.315709              0  ...   \n",
       "4     34.039224, -118.266293  34.039224 -118.266293              0  ...   \n",
       "...                      ...        ...         ...            ...  ...   \n",
       "7038  34.341737, -116.539416  34.341737 -116.539416              0  ...   \n",
       "7039  34.667815, -117.536183  34.667815 -117.536183              0  ...   \n",
       "7040  34.559882, -115.637164  34.559882 -115.637164              0  ...   \n",
       "7041     34.1678, -116.86433  34.167800 -116.864330              0  ...   \n",
       "7042  34.424926, -117.184503  34.424926 -117.184503              0  ...   \n",
       "\n",
       "            Contract Paperless_Billing             Payment_Method  \\\n",
       "0     Month-to-month                 1               Mailed check   \n",
       "1     Month-to-month                 1           Electronic check   \n",
       "2     Month-to-month                 1           Electronic check   \n",
       "3     Month-to-month                 1           Electronic check   \n",
       "4     Month-to-month                 1  Bank transfer (automatic)   \n",
       "...              ...               ...                        ...   \n",
       "7038        Two year                 1  Bank transfer (automatic)   \n",
       "7039        One year                 1               Mailed check   \n",
       "7040        One year                 1    Credit card (automatic)   \n",
       "7041  Month-to-month                 1           Electronic check   \n",
       "7042        Two year                 1  Bank transfer (automatic)   \n",
       "\n",
       "     Monthly_Charges  Total_Charges Churn_Label  Churn_Value  Churn_Score  \\\n",
       "0              53.85         108.15           1            1           86   \n",
       "1              70.70         151.65           1            1           67   \n",
       "2              99.65         820.50           1            1           86   \n",
       "3             104.80        3046.05           1            1           84   \n",
       "4             103.70        5036.30           1            1           89   \n",
       "...              ...            ...         ...          ...          ...   \n",
       "7038           21.15        1419.40           0            0           45   \n",
       "7039           84.80        1990.50           0            0           59   \n",
       "7040          103.20        7362.90           0            0           71   \n",
       "7041           29.60         346.45           0            0           59   \n",
       "7042          105.65        6844.50           0            0           38   \n",
       "\n",
       "      CLTV                   Churn_Reason  \n",
       "0     3239   Competitor made better offer  \n",
       "1     2701                          Moved  \n",
       "2     5372                          Moved  \n",
       "3     5003                          Moved  \n",
       "4     5340  Competitor had better devices  \n",
       "...    ...                            ...  \n",
       "7038  5306                            NaN  \n",
       "7039  2140                            NaN  \n",
       "7040  5560                            NaN  \n",
       "7041  2793                            NaN  \n",
       "7042  5097                            NaN  \n",
       "\n",
       "[7043 rows x 32 columns]"
      ]
     },
     "execution_count": 106,
     "metadata": {},
     "output_type": "execute_result"
    }
   ],
   "source": [
    "customer_dummmy           # here is the result of dummy columns with table."
   ]
  },
  {
   "cell_type": "code",
   "execution_count": null,
   "id": "5d301cd4",
   "metadata": {},
   "outputs": [],
   "source": []
  },
  {
   "cell_type": "code",
   "execution_count": null,
   "id": "340b0225",
   "metadata": {},
   "outputs": [],
   "source": []
  },
  {
   "cell_type": "markdown",
   "id": "dbaa88d0",
   "metadata": {},
   "source": [
    "### Q6 Please examine the distribution of monthly charges between males and females using box plots. Please explain the results also. "
   ]
  },
  {
   "cell_type": "code",
   "execution_count": 107,
   "id": "5c38c04f",
   "metadata": {
    "scrolled": true
   },
   "outputs": [
    {
     "data": {
      "text/plain": [
       "Text(0.5, 1.0, 'Checking Gender with monthly charges')"
      ]
     },
     "execution_count": 107,
     "metadata": {},
     "output_type": "execute_result"
    },
    {
     "data": {
      "image/png": "[encoded data removed]",
      "text/plain": [
       "<Figure size 432x288 with 1 Axes>"
      ]
     },
     "metadata": {
      "needs_background": "light"
     },
     "output_type": "display_data"
    }
   ],
   "source": [
    "# doing comparison of males and females with monthly charges.\n",
    "\n",
    "sns.boxplot(x=\"Gender\",y=\"Monthly_Charges\",data=customer)\n",
    "plt.title('Checking Gender with monthly charges')"
   ]
  },
  {
   "cell_type": "markdown",
   "id": "17361931",
   "metadata": {},
   "source": [
    "so, there is no difference between males and females in monthly charges it is similar to each other. or we can say that both demands are equal and median line is same."
   ]
  },
  {
   "cell_type": "code",
   "execution_count": null,
   "id": "08effef4",
   "metadata": {},
   "outputs": [],
   "source": []
  },
  {
   "cell_type": "code",
   "execution_count": null,
   "id": "7ed3d9db",
   "metadata": {},
   "outputs": [],
   "source": []
  },
  {
   "cell_type": "markdown",
   "id": "bd6cf313",
   "metadata": {},
   "source": [
    "### Q7 Please find what is the minimum total charges for Los Angeles city. Please find which zip code has the maximum total charges."
   ]
  },
  {
   "cell_type": "code",
   "execution_count": 108,
   "id": "00cd145b",
   "metadata": {},
   "outputs": [
    {
     "data": {
      "text/html": [
       "<div>\n",
       "<style scoped>\n",
       "    .dataframe tbody tr th:only-of-type {\n",
       "        vertical-align: middle;\n",
       "    }\n",
       "\n",
       "    .dataframe tbody tr th {\n",
       "        vertical-align: top;\n",
       "    }\n",
       "\n",
       "    .dataframe thead th {\n",
       "        text-align: right;\n",
       "    }\n",
       "</style>\n",
       "<table border=\"1\" class=\"dataframe\">\n",
       "  <thead>\n",
       "    <tr style=\"text-align: right;\">\n",
       "      <th></th>\n",
       "      <th>Count</th>\n",
       "      <th>Country</th>\n",
       "      <th>State</th>\n",
       "      <th>City</th>\n",
       "      <th>Zip_Code</th>\n",
       "      <th>Lat_Long</th>\n",
       "      <th>Latitude</th>\n",
       "      <th>Longitude</th>\n",
       "      <th>Gender</th>\n",
       "      <th>Senior_Citizen</th>\n",
       "      <th>...</th>\n",
       "      <th>Contract</th>\n",
       "      <th>Paperless_Billing</th>\n",
       "      <th>Payment_Method</th>\n",
       "      <th>Monthly_Charges</th>\n",
       "      <th>Total_Charges</th>\n",
       "      <th>Churn_Label</th>\n",
       "      <th>Churn_Value</th>\n",
       "      <th>Churn_Score</th>\n",
       "      <th>CLTV</th>\n",
       "      <th>Churn_Reason</th>\n",
       "    </tr>\n",
       "  </thead>\n",
       "  <tbody>\n",
       "    <tr>\n",
       "      <th>0</th>\n",
       "      <td>1</td>\n",
       "      <td>United States</td>\n",
       "      <td>California</td>\n",
       "      <td>Los Angeles</td>\n",
       "      <td>90003</td>\n",
       "      <td>33.964131, -118.272783</td>\n",
       "      <td>33.964131</td>\n",
       "      <td>-118.272783</td>\n",
       "      <td>Male</td>\n",
       "      <td>No</td>\n",
       "      <td>...</td>\n",
       "      <td>Month-to-month</td>\n",
       "      <td>Yes</td>\n",
       "      <td>Mailed check</td>\n",
       "      <td>53.85</td>\n",
       "      <td>108.15</td>\n",
       "      <td>Yes</td>\n",
       "      <td>1</td>\n",
       "      <td>86</td>\n",
       "      <td>3239</td>\n",
       "      <td>Competitor made better offer</td>\n",
       "    </tr>\n",
       "    <tr>\n",
       "      <th>1</th>\n",
       "      <td>1</td>\n",
       "      <td>United States</td>\n",
       "      <td>California</td>\n",
       "      <td>Los Angeles</td>\n",
       "      <td>90005</td>\n",
       "      <td>34.059281, -118.30742</td>\n",
       "      <td>34.059281</td>\n",
       "      <td>-118.307420</td>\n",
       "      <td>Female</td>\n",
       "      <td>No</td>\n",
       "      <td>...</td>\n",
       "      <td>Month-to-month</td>\n",
       "      <td>Yes</td>\n",
       "      <td>Electronic check</td>\n",
       "      <td>70.70</td>\n",
       "      <td>151.65</td>\n",
       "      <td>Yes</td>\n",
       "      <td>1</td>\n",
       "      <td>67</td>\n",
       "      <td>2701</td>\n",
       "      <td>Moved</td>\n",
       "    </tr>\n",
       "    <tr>\n",
       "      <th>2</th>\n",
       "      <td>1</td>\n",
       "      <td>United States</td>\n",
       "      <td>California</td>\n",
       "      <td>Los Angeles</td>\n",
       "      <td>90006</td>\n",
       "      <td>34.048013, -118.293953</td>\n",
       "      <td>34.048013</td>\n",
       "      <td>-118.293953</td>\n",
       "      <td>Female</td>\n",
       "      <td>No</td>\n",
       "      <td>...</td>\n",
       "      <td>Month-to-month</td>\n",
       "      <td>Yes</td>\n",
       "      <td>Electronic check</td>\n",
       "      <td>99.65</td>\n",
       "      <td>820.50</td>\n",
       "      <td>Yes</td>\n",
       "      <td>1</td>\n",
       "      <td>86</td>\n",
       "      <td>5372</td>\n",
       "      <td>Moved</td>\n",
       "    </tr>\n",
       "    <tr>\n",
       "      <th>3</th>\n",
       "      <td>1</td>\n",
       "      <td>United States</td>\n",
       "      <td>California</td>\n",
       "      <td>Los Angeles</td>\n",
       "      <td>90010</td>\n",
       "      <td>34.062125, -118.315709</td>\n",
       "      <td>34.062125</td>\n",
       "      <td>-118.315709</td>\n",
       "      <td>Female</td>\n",
       "      <td>No</td>\n",
       "      <td>...</td>\n",
       "      <td>Month-to-month</td>\n",
       "      <td>Yes</td>\n",
       "      <td>Electronic check</td>\n",
       "      <td>104.80</td>\n",
       "      <td>3046.05</td>\n",
       "      <td>Yes</td>\n",
       "      <td>1</td>\n",
       "      <td>84</td>\n",
       "      <td>5003</td>\n",
       "      <td>Moved</td>\n",
       "    </tr>\n",
       "    <tr>\n",
       "      <th>4</th>\n",
       "      <td>1</td>\n",
       "      <td>United States</td>\n",
       "      <td>California</td>\n",
       "      <td>Los Angeles</td>\n",
       "      <td>90015</td>\n",
       "      <td>34.039224, -118.266293</td>\n",
       "      <td>34.039224</td>\n",
       "      <td>-118.266293</td>\n",
       "      <td>Male</td>\n",
       "      <td>No</td>\n",
       "      <td>...</td>\n",
       "      <td>Month-to-month</td>\n",
       "      <td>Yes</td>\n",
       "      <td>Bank transfer (automatic)</td>\n",
       "      <td>103.70</td>\n",
       "      <td>5036.30</td>\n",
       "      <td>Yes</td>\n",
       "      <td>1</td>\n",
       "      <td>89</td>\n",
       "      <td>5340</td>\n",
       "      <td>Competitor had better devices</td>\n",
       "    </tr>\n",
       "    <tr>\n",
       "      <th>...</th>\n",
       "      <td>...</td>\n",
       "      <td>...</td>\n",
       "      <td>...</td>\n",
       "      <td>...</td>\n",
       "      <td>...</td>\n",
       "      <td>...</td>\n",
       "      <td>...</td>\n",
       "      <td>...</td>\n",
       "      <td>...</td>\n",
       "      <td>...</td>\n",
       "      <td>...</td>\n",
       "      <td>...</td>\n",
       "      <td>...</td>\n",
       "      <td>...</td>\n",
       "      <td>...</td>\n",
       "      <td>...</td>\n",
       "      <td>...</td>\n",
       "      <td>...</td>\n",
       "      <td>...</td>\n",
       "      <td>...</td>\n",
       "      <td>...</td>\n",
       "    </tr>\n",
       "    <tr>\n",
       "      <th>6767</th>\n",
       "      <td>1</td>\n",
       "      <td>United States</td>\n",
       "      <td>California</td>\n",
       "      <td>Los Angeles</td>\n",
       "      <td>90066</td>\n",
       "      <td>34.002028, -118.430656</td>\n",
       "      <td>34.002028</td>\n",
       "      <td>-118.430656</td>\n",
       "      <td>Female</td>\n",
       "      <td>No</td>\n",
       "      <td>...</td>\n",
       "      <td>One year</td>\n",
       "      <td>Yes</td>\n",
       "      <td>Bank transfer (automatic)</td>\n",
       "      <td>104.80</td>\n",
       "      <td>3886.45</td>\n",
       "      <td>No</td>\n",
       "      <td>0</td>\n",
       "      <td>68</td>\n",
       "      <td>5319</td>\n",
       "      <td>NaN</td>\n",
       "    </tr>\n",
       "    <tr>\n",
       "      <th>6768</th>\n",
       "      <td>1</td>\n",
       "      <td>United States</td>\n",
       "      <td>California</td>\n",
       "      <td>Los Angeles</td>\n",
       "      <td>90067</td>\n",
       "      <td>34.057496, -118.413959</td>\n",
       "      <td>34.057496</td>\n",
       "      <td>-118.413959</td>\n",
       "      <td>Male</td>\n",
       "      <td>No</td>\n",
       "      <td>...</td>\n",
       "      <td>Month-to-month</td>\n",
       "      <td>No</td>\n",
       "      <td>Credit card (automatic)</td>\n",
       "      <td>29.30</td>\n",
       "      <td>1224.05</td>\n",
       "      <td>No</td>\n",
       "      <td>0</td>\n",
       "      <td>70</td>\n",
       "      <td>4741</td>\n",
       "      <td>NaN</td>\n",
       "    </tr>\n",
       "    <tr>\n",
       "      <th>6769</th>\n",
       "      <td>1</td>\n",
       "      <td>United States</td>\n",
       "      <td>California</td>\n",
       "      <td>Los Angeles</td>\n",
       "      <td>90068</td>\n",
       "      <td>34.137411, -118.328915</td>\n",
       "      <td>34.137411</td>\n",
       "      <td>-118.328915</td>\n",
       "      <td>Female</td>\n",
       "      <td>Yes</td>\n",
       "      <td>...</td>\n",
       "      <td>Month-to-month</td>\n",
       "      <td>No</td>\n",
       "      <td>Electronic check</td>\n",
       "      <td>83.85</td>\n",
       "      <td>2310.20</td>\n",
       "      <td>No</td>\n",
       "      <td>0</td>\n",
       "      <td>35</td>\n",
       "      <td>5907</td>\n",
       "      <td>NaN</td>\n",
       "    </tr>\n",
       "    <tr>\n",
       "      <th>6770</th>\n",
       "      <td>1</td>\n",
       "      <td>United States</td>\n",
       "      <td>California</td>\n",
       "      <td>Los Angeles</td>\n",
       "      <td>90071</td>\n",
       "      <td>34.052917, -118.255178</td>\n",
       "      <td>34.052917</td>\n",
       "      <td>-118.255178</td>\n",
       "      <td>Female</td>\n",
       "      <td>No</td>\n",
       "      <td>...</td>\n",
       "      <td>Month-to-month</td>\n",
       "      <td>Yes</td>\n",
       "      <td>Electronic check</td>\n",
       "      <td>103.65</td>\n",
       "      <td>3988.50</td>\n",
       "      <td>No</td>\n",
       "      <td>0</td>\n",
       "      <td>47</td>\n",
       "      <td>2511</td>\n",
       "      <td>NaN</td>\n",
       "    </tr>\n",
       "    <tr>\n",
       "      <th>6771</th>\n",
       "      <td>1</td>\n",
       "      <td>United States</td>\n",
       "      <td>California</td>\n",
       "      <td>Los Angeles</td>\n",
       "      <td>90077</td>\n",
       "      <td>34.102084, -118.451629</td>\n",
       "      <td>34.102084</td>\n",
       "      <td>-118.451629</td>\n",
       "      <td>Female</td>\n",
       "      <td>Yes</td>\n",
       "      <td>...</td>\n",
       "      <td>Month-to-month</td>\n",
       "      <td>Yes</td>\n",
       "      <td>Electronic check</td>\n",
       "      <td>99.05</td>\n",
       "      <td>3554.60</td>\n",
       "      <td>No</td>\n",
       "      <td>0</td>\n",
       "      <td>63</td>\n",
       "      <td>3484</td>\n",
       "      <td>NaN</td>\n",
       "    </tr>\n",
       "  </tbody>\n",
       "</table>\n",
       "<p>305 rows × 32 columns</p>\n",
       "</div>"
      ],
      "text/plain": [
       "      Count        Country       State         City Zip_Code  \\\n",
       "0         1  United States  California  Los Angeles    90003   \n",
       "1         1  United States  California  Los Angeles    90005   \n",
       "2         1  United States  California  Los Angeles    90006   \n",
       "3         1  United States  California  Los Angeles    90010   \n",
       "4         1  United States  California  Los Angeles    90015   \n",
       "...     ...            ...         ...          ...      ...   \n",
       "6767      1  United States  California  Los Angeles    90066   \n",
       "6768      1  United States  California  Los Angeles    90067   \n",
       "6769      1  United States  California  Los Angeles    90068   \n",
       "6770      1  United States  California  Los Angeles    90071   \n",
       "6771      1  United States  California  Los Angeles    90077   \n",
       "\n",
       "                    Lat_Long   Latitude   Longitude  Gender Senior_Citizen  \\\n",
       "0     33.964131, -118.272783  33.964131 -118.272783    Male             No   \n",
       "1      34.059281, -118.30742  34.059281 -118.307420  Female             No   \n",
       "2     34.048013, -118.293953  34.048013 -118.293953  Female             No   \n",
       "3     34.062125, -118.315709  34.062125 -118.315709  Female             No   \n",
       "4     34.039224, -118.266293  34.039224 -118.266293    Male             No   \n",
       "...                      ...        ...         ...     ...            ...   \n",
       "6767  34.002028, -118.430656  34.002028 -118.430656  Female             No   \n",
       "6768  34.057496, -118.413959  34.057496 -118.413959    Male             No   \n",
       "6769  34.137411, -118.328915  34.137411 -118.328915  Female            Yes   \n",
       "6770  34.052917, -118.255178  34.052917 -118.255178  Female             No   \n",
       "6771  34.102084, -118.451629  34.102084 -118.451629  Female            Yes   \n",
       "\n",
       "      ...        Contract Paperless_Billing             Payment_Method  \\\n",
       "0     ...  Month-to-month               Yes               Mailed check   \n",
       "1     ...  Month-to-month               Yes           Electronic check   \n",
       "2     ...  Month-to-month               Yes           Electronic check   \n",
       "3     ...  Month-to-month               Yes           Electronic check   \n",
       "4     ...  Month-to-month               Yes  Bank transfer (automatic)   \n",
       "...   ...             ...               ...                        ...   \n",
       "6767  ...        One year               Yes  Bank transfer (automatic)   \n",
       "6768  ...  Month-to-month                No    Credit card (automatic)   \n",
       "6769  ...  Month-to-month                No           Electronic check   \n",
       "6770  ...  Month-to-month               Yes           Electronic check   \n",
       "6771  ...  Month-to-month               Yes           Electronic check   \n",
       "\n",
       "     Monthly_Charges Total_Charges Churn_Label Churn_Value Churn_Score  CLTV  \\\n",
       "0              53.85        108.15         Yes           1          86  3239   \n",
       "1              70.70        151.65         Yes           1          67  2701   \n",
       "2              99.65        820.50         Yes           1          86  5372   \n",
       "3             104.80       3046.05         Yes           1          84  5003   \n",
       "4             103.70       5036.30         Yes           1          89  5340   \n",
       "...              ...           ...         ...         ...         ...   ...   \n",
       "6767          104.80       3886.45          No           0          68  5319   \n",
       "6768           29.30       1224.05          No           0          70  4741   \n",
       "6769           83.85       2310.20          No           0          35  5907   \n",
       "6770          103.65       3988.50          No           0          47  2511   \n",
       "6771           99.05       3554.60          No           0          63  3484   \n",
       "\n",
       "                       Churn_Reason  \n",
       "0      Competitor made better offer  \n",
       "1                             Moved  \n",
       "2                             Moved  \n",
       "3                             Moved  \n",
       "4     Competitor had better devices  \n",
       "...                             ...  \n",
       "6767                            NaN  \n",
       "6768                            NaN  \n",
       "6769                            NaN  \n",
       "6770                            NaN  \n",
       "6771                            NaN  \n",
       "\n",
       "[305 rows x 32 columns]"
      ]
     },
     "execution_count": 108,
     "metadata": {},
     "output_type": "execute_result"
    }
   ],
   "source": [
    "# here i am selecting particular Los angeles city. \n",
    "\n",
    "customer_city = customer[customer.City == 'Los Angeles']\n",
    "customer_city"
   ]
  },
  {
   "cell_type": "markdown",
   "id": "b1817993",
   "metadata": {},
   "source": [
    "#### (a) minimum total charges for Los Angeles city"
   ]
  },
  {
   "cell_type": "code",
   "execution_count": 109,
   "id": "4a7e93df",
   "metadata": {
    "scrolled": true
   },
   "outputs": [
    {
     "data": {
      "text/html": [
       "<div>\n",
       "<style scoped>\n",
       "    .dataframe tbody tr th:only-of-type {\n",
       "        vertical-align: middle;\n",
       "    }\n",
       "\n",
       "    .dataframe tbody tr th {\n",
       "        vertical-align: top;\n",
       "    }\n",
       "\n",
       "    .dataframe thead th {\n",
       "        text-align: right;\n",
       "    }\n",
       "</style>\n",
       "<table border=\"1\" class=\"dataframe\">\n",
       "  <thead>\n",
       "    <tr style=\"text-align: right;\">\n",
       "      <th></th>\n",
       "      <th>City</th>\n",
       "      <th>Total_Charges</th>\n",
       "    </tr>\n",
       "  </thead>\n",
       "  <tbody>\n",
       "    <tr>\n",
       "      <th>3087</th>\n",
       "      <td>Los Angeles</td>\n",
       "      <td>18.8</td>\n",
       "    </tr>\n",
       "  </tbody>\n",
       "</table>\n",
       "</div>"
      ],
      "text/plain": [
       "             City  Total_Charges\n",
       "3087  Los Angeles           18.8"
      ]
     },
     "execution_count": 109,
     "metadata": {},
     "output_type": "execute_result"
    }
   ],
   "source": [
    "# finding minimum total charge in los angeles city which is 18.8 .\n",
    "\n",
    "min_total_charge = customer_city.loc[customer_city['Total_Charges'] == customer_city['Total_Charges'].min(),['City','Total_Charges']]\n",
    "min_total_charge"
   ]
  },
  {
   "cell_type": "markdown",
   "id": "0f36bdcc",
   "metadata": {},
   "source": [
    "#### (b) zip code has the maximum total charges."
   ]
  },
  {
   "cell_type": "code",
   "execution_count": 110,
   "id": "cb0ce991",
   "metadata": {},
   "outputs": [
    {
     "data": {
      "text/html": [
       "<div>\n",
       "<style scoped>\n",
       "    .dataframe tbody tr th:only-of-type {\n",
       "        vertical-align: middle;\n",
       "    }\n",
       "\n",
       "    .dataframe tbody tr th {\n",
       "        vertical-align: top;\n",
       "    }\n",
       "\n",
       "    .dataframe thead th {\n",
       "        text-align: right;\n",
       "    }\n",
       "</style>\n",
       "<table border=\"1\" class=\"dataframe\">\n",
       "  <thead>\n",
       "    <tr style=\"text-align: right;\">\n",
       "      <th></th>\n",
       "      <th>Zip_Code</th>\n",
       "      <th>Total_Charges</th>\n",
       "    </tr>\n",
       "  </thead>\n",
       "  <tbody>\n",
       "    <tr>\n",
       "      <th>3117</th>\n",
       "      <td>90044</td>\n",
       "      <td>8375.05</td>\n",
       "    </tr>\n",
       "  </tbody>\n",
       "</table>\n",
       "</div>"
      ],
      "text/plain": [
       "     Zip_Code  Total_Charges\n",
       "3117    90044        8375.05"
      ]
     },
     "execution_count": 110,
     "metadata": {},
     "output_type": "execute_result"
    }
   ],
   "source": [
    "# finding maximum total charge with zip_code. which is 8375.05 .\n",
    "\n",
    "max_total_charge = customer_city.loc[customer_city['Total_Charges'] == customer_city['Total_Charges'].max(),['Zip_Code','Total_Charges']]\n",
    "max_total_charge"
   ]
  },
  {
   "cell_type": "code",
   "execution_count": null,
   "id": "e52d90cf",
   "metadata": {},
   "outputs": [],
   "source": []
  },
  {
   "cell_type": "code",
   "execution_count": null,
   "id": "419295d9",
   "metadata": {},
   "outputs": [],
   "source": []
  },
  {
   "cell_type": "markdown",
   "id": "52a1100f",
   "metadata": {},
   "source": [
    "### Q8 Please find which payment method has the highest churn score and which has the lowest churn score."
   ]
  },
  {
   "cell_type": "code",
   "execution_count": 111,
   "id": "556d0b8e",
   "metadata": {},
   "outputs": [
    {
     "data": {
      "text/plain": [
       "Text(0.5, 1.0, 'Churn_score with payment method')"
      ]
     },
     "execution_count": 111,
     "metadata": {},
     "output_type": "execute_result"
    },
    {
     "data": {
      "image/png": "[encoded data removed]",
      "text/plain": [
       "<Figure size 720x360 with 1 Axes>"
      ]
     },
     "metadata": {
      "needs_background": "light"
     },
     "output_type": "display_data"
    }
   ],
   "source": [
    "# here i am comparing and finding highest and lowest churn_score with payment method.\n",
    "\n",
    "plt.figure(figsize=(10,5))\n",
    "sns.barplot(x=\"Payment_Method\",y=\"Churn_Score\",data=customer)\n",
    "plt.title('Churn_score with payment method')"
   ]
  },
  {
   "cell_type": "markdown",
   "id": "27281466",
   "metadata": {},
   "source": [
    "Electronic check gets the highest churn_score which is above the 60.\n",
    "\n",
    "Credit_card(automatic) gets the lowest churn_score which is approx 50."
   ]
  },
  {
   "cell_type": "code",
   "execution_count": null,
   "id": "2e0074ed",
   "metadata": {},
   "outputs": [],
   "source": []
  },
  {
   "cell_type": "code",
   "execution_count": null,
   "id": "886d373e",
   "metadata": {},
   "outputs": [],
   "source": []
  },
  {
   "cell_type": "markdown",
   "id": "df2479dc",
   "metadata": {},
   "source": [
    "### Q9 Please create an appropriate plot to check the count of payment methods and explain it.\n"
   ]
  },
  {
   "cell_type": "markdown",
   "id": "af552671",
   "metadata": {},
   "source": [
    "#### (a) mailed check"
   ]
  },
  {
   "cell_type": "code",
   "execution_count": 112,
   "id": "91d80f7b",
   "metadata": {},
   "outputs": [],
   "source": [
    "# selecting particular mailed check in the table and finding result.\n",
    "\n",
    "customer_mailed = customer[customer.Payment_Method == 'Mailed check']"
   ]
  },
  {
   "cell_type": "code",
   "execution_count": 113,
   "id": "fb5a5963",
   "metadata": {},
   "outputs": [
    {
     "data": {
      "text/plain": [
       "1612"
      ]
     },
     "execution_count": 113,
     "metadata": {},
     "output_type": "execute_result"
    }
   ],
   "source": [
    "customer_mailed.Payment_Method.count()         # finding count with code."
   ]
  },
  {
   "cell_type": "code",
   "execution_count": 114,
   "id": "d8867c90",
   "metadata": {},
   "outputs": [
    {
     "data": {
      "text/plain": [
       "<AxesSubplot:xlabel='Payment_Method', ylabel='count'>"
      ]
     },
     "execution_count": 114,
     "metadata": {},
     "output_type": "execute_result"
    },
    {
     "data": {
      "image/png": "[encoded data removed]",
      "text/plain": [
       "<Figure size 720x360 with 1 Axes>"
      ]
     },
     "metadata": {
      "needs_background": "light"
     },
     "output_type": "display_data"
    }
   ],
   "source": [
    "# and this is graphical representation of count.\n",
    "# the mailed_check count is 1612.\n",
    "\n",
    "plt.figure(figsize=(10,5))\n",
    "sns.countplot(x=\"Payment_Method\", data=customer_mailed)"
   ]
  },
  {
   "cell_type": "markdown",
   "id": "34e0a978",
   "metadata": {},
   "source": [
    "#### electronic check"
   ]
  },
  {
   "cell_type": "code",
   "execution_count": 115,
   "id": "88705ebb",
   "metadata": {},
   "outputs": [],
   "source": [
    "# selecting particular electronic check in the table and finding result.\n",
    "\n",
    "customer_electronic_check = customer[customer.Payment_Method == 'Electronic check']  "
   ]
  },
  {
   "cell_type": "code",
   "execution_count": 116,
   "id": "7bb39c11",
   "metadata": {},
   "outputs": [
    {
     "data": {
      "text/plain": [
       "2365"
      ]
     },
     "execution_count": 116,
     "metadata": {},
     "output_type": "execute_result"
    }
   ],
   "source": [
    "customer_electronic_check.Payment_Method.count()         # finding count with code."
   ]
  },
  {
   "cell_type": "code",
   "execution_count": 117,
   "id": "3f901a8e",
   "metadata": {},
   "outputs": [
    {
     "data": {
      "text/plain": [
       "<AxesSubplot:xlabel='Payment_Method', ylabel='count'>"
      ]
     },
     "execution_count": 117,
     "metadata": {},
     "output_type": "execute_result"
    },
    {
     "data": {
      "image/png": "[encoded data removed]",
      "text/plain": [
       "<Figure size 720x360 with 1 Axes>"
      ]
     },
     "metadata": {
      "needs_background": "light"
     },
     "output_type": "display_data"
    }
   ],
   "source": [
    "# and this is graphical representation of count.\n",
    "# the electronic_check count is 2365.\n",
    "\n",
    "plt.figure(figsize=(10,5))\n",
    "sns.countplot(x=\"Payment_Method\", data=customer_electronic_check)"
   ]
  },
  {
   "cell_type": "markdown",
   "id": "b8a403bd",
   "metadata": {},
   "source": [
    "#### bank transfer"
   ]
  },
  {
   "cell_type": "code",
   "execution_count": 118,
   "id": "cb6d04f3",
   "metadata": {},
   "outputs": [],
   "source": [
    "# selecting particular bank transfer in the table and finding result.\n",
    "\n",
    "customer_bank_transfer = customer[customer.Payment_Method == 'Bank transfer (automatic)']   "
   ]
  },
  {
   "cell_type": "code",
   "execution_count": 119,
   "id": "8f67195d",
   "metadata": {},
   "outputs": [
    {
     "data": {
      "text/plain": [
       "1544"
      ]
     },
     "execution_count": 119,
     "metadata": {},
     "output_type": "execute_result"
    }
   ],
   "source": [
    "customer_bank_transfer.Payment_Method.count()         # finding count with code."
   ]
  },
  {
   "cell_type": "code",
   "execution_count": 120,
   "id": "47f47868",
   "metadata": {},
   "outputs": [
    {
     "data": {
      "text/plain": [
       "<AxesSubplot:xlabel='Payment_Method', ylabel='count'>"
      ]
     },
     "execution_count": 120,
     "metadata": {},
     "output_type": "execute_result"
    },
    {
     "data": {
      "image/png": "[encoded data removed]",
      "text/plain": [
       "<Figure size 720x360 with 1 Axes>"
      ]
     },
     "metadata": {
      "needs_background": "light"
     },
     "output_type": "display_data"
    }
   ],
   "source": [
    "# and this is graphical representation of count.\n",
    "# the bank_transfer count is 1544.\n",
    "\n",
    "plt.figure(figsize=(10,5))\n",
    "sns.countplot(x=\"Payment_Method\", data=customer_bank_transfer)"
   ]
  },
  {
   "cell_type": "markdown",
   "id": "d516a237",
   "metadata": {},
   "source": [
    "#### credit card"
   ]
  },
  {
   "cell_type": "code",
   "execution_count": 121,
   "id": "788dc007",
   "metadata": {},
   "outputs": [],
   "source": [
    "# selecting particular credit card in the table and finding result.\n",
    "\n",
    "customer_credit_card = customer[customer.Payment_Method == 'Credit card (automatic)']"
   ]
  },
  {
   "cell_type": "code",
   "execution_count": 122,
   "id": "1397f50e",
   "metadata": {},
   "outputs": [
    {
     "data": {
      "text/plain": [
       "1522"
      ]
     },
     "execution_count": 122,
     "metadata": {},
     "output_type": "execute_result"
    }
   ],
   "source": [
    "customer_credit_card.Payment_Method.count()         # finding count with code."
   ]
  },
  {
   "cell_type": "code",
   "execution_count": 123,
   "id": "247d833a",
   "metadata": {},
   "outputs": [
    {
     "data": {
      "text/plain": [
       "<AxesSubplot:xlabel='Payment_Method', ylabel='count'>"
      ]
     },
     "execution_count": 123,
     "metadata": {},
     "output_type": "execute_result"
    },
    {
     "data": {
      "image/png": "[encoded data removed]",
      "text/plain": [
       "<Figure size 720x360 with 1 Axes>"
      ]
     },
     "metadata": {
      "needs_background": "light"
     },
     "output_type": "display_data"
    }
   ],
   "source": [
    "# and this is graphical representation of count.\n",
    "# the credit_card count is 1522.\n",
    "\n",
    "plt.figure(figsize=(10,5))\n",
    "sns.countplot(x=\"Payment_Method\", data=customer_credit_card)"
   ]
  },
  {
   "cell_type": "code",
   "execution_count": null,
   "id": "90eb934c",
   "metadata": {},
   "outputs": [],
   "source": []
  },
  {
   "cell_type": "code",
   "execution_count": null,
   "id": "d7bbd3bb",
   "metadata": {},
   "outputs": [],
   "source": []
  },
  {
   "cell_type": "markdown",
   "id": "c551843b",
   "metadata": {},
   "source": [
    "## Q10  Please create an appropriate plot to see the relationship between monthly charges and total charges."
   ]
  },
  {
   "cell_type": "markdown",
   "id": "79eb9e67",
   "metadata": {},
   "source": [
    "#### scatter plot"
   ]
  },
  {
   "cell_type": "code",
   "execution_count": 124,
   "id": "b9ed50ec",
   "metadata": {},
   "outputs": [
    {
     "data": {
      "text/plain": [
       "Text(0.5, 1.0, 'Monthly charge with Total charge')"
      ]
     },
     "execution_count": 124,
     "metadata": {},
     "output_type": "execute_result"
    },
    {
     "data": {
      "image/png": "[encoded data removed]",
      "text/plain": [
       "<Figure size 720x360 with 1 Axes>"
      ]
     },
     "metadata": {
      "needs_background": "light"
     },
     "output_type": "display_data"
    }
   ],
   "source": [
    "# here i am taking monthly_charge and total_charge doing comparison.\n",
    "\n",
    "plt.figure(figsize=(10,5))\n",
    "sns.scatterplot(x=\"Monthly_Charges\",y=\"Total_Charges\", data=customer)\n",
    "plt.title('Monthly charge with Total charge')"
   ]
  },
  {
   "cell_type": "markdown",
   "id": "e2e07849",
   "metadata": {},
   "source": [
    "so, we can see here there is so many plans in monthly charge as well as total charge\n",
    "\n",
    "the highest total_charge is above 8000\n",
    "\n",
    "the lowest monthly_charge is 20"
   ]
  },
  {
   "cell_type": "markdown",
   "id": "a3467a3a",
   "metadata": {},
   "source": [
    "#### pair plot"
   ]
  },
  {
   "cell_type": "code",
   "execution_count": 125,
   "id": "7d6b6a20",
   "metadata": {},
   "outputs": [],
   "source": [
    "customer_tenure = customer[['Monthly_Charges','Total_Charges']]      # selecting two columns for analysis."
   ]
  },
  {
   "cell_type": "code",
   "execution_count": 126,
   "id": "aa0c40a9",
   "metadata": {},
   "outputs": [
    {
     "data": {
      "text/plain": [
       "<seaborn.axisgrid.PairGrid at 0x2038d6766a0>"
      ]
     },
     "execution_count": 126,
     "metadata": {},
     "output_type": "execute_result"
    },
    {
     "data": {
      "image/png": "[encoded data removed]",
      "text/plain": [
       "<Figure size 360x360 with 6 Axes>"
      ]
     },
     "metadata": {
      "needs_background": "light"
     },
     "output_type": "display_data"
    }
   ],
   "source": [
    "# doing comparison by using of month and total charges.\n",
    "\n",
    "sns.pairplot(customer_tenure)"
   ]
  },
  {
   "cell_type": "markdown",
   "id": "a0b76341",
   "metadata": {},
   "source": [
    "basically, here i am using pair plot to see relationship with trend also.\n",
    "\n",
    "the \"monthly_charge\" --   pattern is sometimes go up and down. because it may vary person to person some people like to charge on monthly basis and they like small plan.\n",
    "\n",
    "but \"total_charge\" --   pattern is something like going down as charges is increasing. so, we can predict here or we can take real example most of the people is not interested in paying of whole amount in one go."
   ]
  }
 ],
 "metadata": {
  "kernelspec": {
   "display_name": "Python 3",
   "language": "python",
   "name": "python3"
  },
  "language_info": {
   "codemirror_mode": {
    "name": "ipython",
    "version": 3
   },
   "file_extension": ".py",
   "mimetype": "text/x-python",
   "name": "python",
   "nbconvert_exporter": "python",
   "pygments_lexer": "ipython3",
   "version": "3.8.8"
  }
 },
 "nbformat": 4,
 "nbformat_minor": 5
}
