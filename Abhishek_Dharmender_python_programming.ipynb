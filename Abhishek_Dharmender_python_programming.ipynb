{
 "cells": [
  {
   "cell_type": "code",
   "execution_count": 3,
   "id": "62c37ebd",
   "metadata": {},
   "outputs": [],
   "source": [
    "import numpy as np"
   ]
  },
  {
   "cell_type": "markdown",
   "id": "d360c8cc",
   "metadata": {},
   "source": [
    "# Q1 "
   ]
  },
  {
   "cell_type": "code",
   "execution_count": 4,
   "id": "c2f2719f",
   "metadata": {},
   "outputs": [
    {
     "name": "stdout",
     "output_type": "stream",
     "text": [
      "6\n"
     ]
    }
   ],
   "source": [
    "# python program to find minimum\n",
    "# difference of maximum\n",
    "# and minimum of p\n",
    "\n",
    "# return minimum differences of maximum and minimum\n",
    "# of p elemnts of l\n",
    "\n",
    "def minDiff(l,n,p):\n",
    "    result = +2147483647\n",
    "    \n",
    "    # sortng\n",
    "    l.sort()\n",
    "    \n",
    "    # finding minimum value among all p\n",
    "    for i in range(n-p+1):\n",
    "    \n",
    "        result = int(min(result, l[i+p-1] - l[i]))\n",
    "    \n",
    "    return result\n",
    "\n",
    "# driver code\n",
    "l = [3,4,1,9,56,7,9,12,13]\n",
    "n = len(l)\n",
    "p = 5\n",
    "\n",
    "print(minDiff(l,n,p))"
   ]
  },
  {
   "cell_type": "code",
   "execution_count": null,
   "id": "cb9e1adb",
   "metadata": {},
   "outputs": [],
   "source": []
  },
  {
   "cell_type": "code",
   "execution_count": null,
   "id": "79152e33",
   "metadata": {},
   "outputs": [],
   "source": []
  },
  {
   "cell_type": "markdown",
   "id": "2fb01d9c",
   "metadata": {},
   "source": [
    "# Q2"
   ]
  },
  {
   "cell_type": "code",
   "execution_count": 14,
   "id": "3a173c2b",
   "metadata": {},
   "outputs": [
    {
     "name": "stdout",
     "output_type": "stream",
     "text": [
      "5 7\n",
      "3 23\n"
     ]
    }
   ],
   "source": [
    "# program is to find prime number\n",
    "# pair whose sum is equal to given number\n",
    "# i  am finding here super prime values. it may less than or equal to n\n",
    "\n",
    "\n",
    "# generate all prime number less than n\n",
    "def SieveofEratosthenes(n, isPrime):\n",
    "    \n",
    "    # initialize all entries of boolean\n",
    "    # array as True. A value in isPrime[i]\n",
    "    # will finally be False if i is not a prime, else true bool isPrime[n+1]\n",
    "    \n",
    "    isPrime[0] = isPrime[1] = False\n",
    "    for i in range(2, n+1):\n",
    "        isPrime[i] = True\n",
    "        \n",
    "    p = 2\n",
    "    while(p*p <= n):\n",
    "        \n",
    "        # if isPrime[p] is not changed, then it is a prime\n",
    "        \n",
    "        if (isPrime[p] == True):\n",
    "            \n",
    "            # Update all multiples of p\n",
    "            i = p*p\n",
    "            while(i <= n):\n",
    "                isPrime[i] = False\n",
    "                i += p\n",
    "        p += 1\n",
    "        \n",
    "        \n",
    "# print a prime pair with given sum        \n",
    "def findPrimePair(n):\n",
    "    \n",
    "    # generating primes using Sieve\n",
    "    isPrime = [0] * (n+1)\n",
    "    SieveofEratosthenes(n, isPrime)\n",
    "    \n",
    "    # traversing all numbers to find first pair\n",
    "    for i in range(0, n):\n",
    "        if (isPrime[i] and isPrime[n - i]):\n",
    "            \n",
    "            \n",
    "            print(i,(n - i))\n",
    "            return\n",
    "        \n",
    "\n",
    "# driven program        \n",
    "n = 12\n",
    "m = 26\n",
    "\n",
    "findPrimePair(n) \n",
    "findPrimePair(m)"
   ]
  },
  {
   "cell_type": "code",
   "execution_count": null,
   "id": "97d15008",
   "metadata": {},
   "outputs": [],
   "source": []
  },
  {
   "cell_type": "code",
   "execution_count": null,
   "id": "fea95083",
   "metadata": {},
   "outputs": [],
   "source": []
  },
  {
   "cell_type": "markdown",
   "id": "7dddac34",
   "metadata": {},
   "source": [
    "# Q3"
   ]
  },
  {
   "cell_type": "code",
   "execution_count": 7,
   "id": "e7dc0b9d",
   "metadata": {},
   "outputs": [
    {
     "name": "stdout",
     "output_type": "stream",
     "text": [
      "enter number here      5\n",
      "<class 'int'>\n"
     ]
    }
   ],
   "source": [
    "number =input(\"enter number here      \")\n",
    "\n",
    "nb = None\n",
    "for cast in (int, float):         # using for loop\n",
    "    try:\n",
    "        nb = cast(number)\n",
    "        print(cast)\n",
    "        break\n",
    "    except ValueError:\n",
    "        pass"
   ]
  },
  {
   "cell_type": "code",
   "execution_count": null,
   "id": "88c7fcff",
   "metadata": {},
   "outputs": [],
   "source": []
  }
 ],
 "metadata": {
  "kernelspec": {
   "display_name": "Python 3",
   "language": "python",
   "name": "python3"
  },
  "language_info": {
   "codemirror_mode": {
    "name": "ipython",
    "version": 3
   },
   "file_extension": ".py",
   "mimetype": "text/x-python",
   "name": "python",
   "nbconvert_exporter": "python",
   "pygments_lexer": "ipython3",
   "version": "3.8.8"
  }
 },
 "nbformat": 4,
 "nbformat_minor": 5
}
